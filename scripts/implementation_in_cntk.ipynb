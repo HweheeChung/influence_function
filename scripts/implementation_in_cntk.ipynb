{
 "cells": [
  {
   "cell_type": "markdown",
   "metadata": {},
   "source": [
    "## HVP\n",
    "\n",
    "implement HVP using cntk\n",
    "refer: https://cntk.ai/pythondocs/cntk.ops.functions.html#cntk.ops.functions.Function.forward"
   ]
  },
  {
   "cell_type": "code",
   "execution_count": 1,
   "metadata": {
    "collapsed": true
   },
   "outputs": [],
   "source": [
    "import cntk as C\n",
    "import numpy as np"
   ]
  },
  {
   "cell_type": "markdown",
   "metadata": {},
   "source": [
    "Calculate HVP using $\\frac{g(x+rv)-g(x-rv)}{2r}$."
   ]
  },
  {
   "cell_type": "code",
   "execution_count": 2,
   "metadata": {
    "collapsed": true
   },
   "outputs": [],
   "source": [
    "def weight_update(w, v, r):\n",
    "    # w: weights of neural network (tuple)\n",
    "    # v: value for delta w (dictionary, e.g., gradient value)\n",
    "    # r: hyperparameter for a gradient (scalar)\n",
    "    \n",
    "    for p in w:\n",
    "        p.value += r * v[p]"
   ]
  },
  {
   "cell_type": "code",
   "execution_count": 3,
   "metadata": {
    "collapsed": true
   },
   "outputs": [],
   "source": [
    "def HVP(y, x, v):\n",
    "    # y: function to be differentiated (function, e.g. neural network logit)\n",
    "    # w: variables to differentiate (numeric, e.g. neural network weight)\n",
    "    # x: feed_dict value for the network y (numpy array, e.g., image)\n",
    "    # v: vector to be producted (by Hessian) (numeric dictionary, e.g., g(z_test))\n",
    "    \n",
    "    # hyperparameter r\n",
    "    r = 1e-4\n",
    "    \n",
    "    feed = y.inputs[-1] # input of the neural network\n",
    "    \n",
    "    x = np.asarray(x, dtype=feed.dtype)\n",
    "    assert(type(v)==dict)\n",
    "    \n",
    "    w = y.parameters\n",
    "    \n",
    "    # gradient for plus\n",
    "    weight_update(w, v, +r)\n",
    "    g_plus = y.grad({feed:x}, wrt=params)\n",
    "    weight_update(w, v, -r)\n",
    "    \n",
    "    # gradient for minus\n",
    "    weight_update(w, v, -r)\n",
    "    g_minus = y.grad({feed:x}, wrt=params)\n",
    "    weight_update(w, v, +r)\n",
    "    \n",
    "    # hvp = (g({feed:x+np.dot(r,v_stop)}, wrt=params) - g({feed:x-np.dot(r,v_stop)}, wrt=params))/(2*r) # dict implemented\n",
    "    \n",
    "    hvp = {ks: (g_plus[ks] - g_minus[ks])/(2*r) for ks in g_plus.keys()}\n",
    "       \n",
    "    return hvp"
   ]
  },
  {
   "cell_type": "code",
   "execution_count": 4,
   "metadata": {
    "collapsed": false
   },
   "outputs": [
    {
     "data": {
      "text/plain": [
       "{Parameter('W', [], [1 x 1]): array([[ 1.00016594]], dtype=float32),\n",
       " Parameter('W', [], [1 x 1]): array([[ 1.00016594]], dtype=float32)}"
      ]
     },
     "execution_count": 4,
     "metadata": {},
     "output_type": "execute_result"
    }
   ],
   "source": [
    "# toy example\n",
    "\n",
    "x = C.input_variable(shape=(1,))\n",
    "#h = C.layers.Dense(1, activation=None, init=C.uniform(1), bias=True, init_bias=0)(x)\n",
    "#y = C.layers.Dense(1, activation=None, init=C.uniform(1), bias=True, init_bias=0)(h)\n",
    "h = C.layers.Dense(1, activation=None, init=C.uniform(1), bias=False)(x)\n",
    "y = C.layers.Dense(1, activation=None, init=C.uniform(1), bias=False)(h)\n",
    "\n",
    "y_plus = y.clone('clone')\n",
    "y_minus = y.clone('clone')\n",
    "x_feed = [[1.]]\n",
    "params = y.parameters\n",
    "v_feed = {p: np.ones_like(p.value) for p in params}\n",
    "\n",
    "HVP(y, x_feed, v_feed)\n",
    "\n",
    "# output should be 1, 1"
   ]
  },
  {
   "cell_type": "markdown",
   "metadata": {},
   "source": [
    "원래 답은 1.0, 1.0이 나와야 함. 이런 차이는 hyperparameter r과 관계가 있을 것. r이 작이질 수록 오차도 적어질 것으로 예상되지만, 지나치게 r이 적게 되면 precision number보다 적은 값이 나와서 문제가 생길 수 있음. 특히 gradient 값이 작은 부분에선 큰 문제가 됨."
   ]
  },
  {
   "cell_type": "code",
   "execution_count": null,
   "metadata": {
    "collapsed": true
   },
   "outputs": [],
   "source": [
    "# neural network architecture\n",
    "\n",
    "# neural network load\n",
    "\n",
    "# calculate HVP for an example\n",
    "\n",
    "# check tack time"
   ]
  },
  {
   "cell_type": "code",
   "execution_count": null,
   "metadata": {
    "collapsed": true
   },
   "outputs": [],
   "source": [
    "# stochastic estimation"
   ]
  }
 ],
 "metadata": {
  "anaconda-cloud": {},
  "kernelspec": {
   "display_name": "Python [conda env:cntk]",
   "language": "python",
   "name": "conda-env-cntk-py"
  },
  "language_info": {
   "codemirror_mode": {
    "name": "ipython",
    "version": 3
   },
   "file_extension": ".py",
   "mimetype": "text/x-python",
   "name": "python",
   "nbconvert_exporter": "python",
   "pygments_lexer": "ipython3",
   "version": "3.5.4"
  }
 },
 "nbformat": 4,
 "nbformat_minor": 1
}
