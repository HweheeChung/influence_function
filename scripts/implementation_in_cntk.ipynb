{
 "cells": [
  {
   "cell_type": "markdown",
   "metadata": {},
   "source": [
    "## HVP\n",
    "\n",
    "implement HVP using cntk\n",
    "refer: https://cntk.ai/pythondocs/cntk.ops.functions.html#cntk.ops.functions.Function.forward"
   ]
  },
  {
   "cell_type": "code",
   "execution_count": 1,
   "metadata": {
    "collapsed": true
   },
   "outputs": [],
   "source": [
    "import cntk as C\n",
    "from cntk.device import try_set_default_device, gpu\n",
    "try_set_default_device(gpu(0))\n",
    "\n",
    "import numpy as np\n",
    "import time"
   ]
  },
  {
   "cell_type": "markdown",
   "metadata": {},
   "source": [
    "Calculate HVP using $\\frac{g(x+rv)-g(x-rv)}{2r}$.\n",
    "\n",
    "더 정확하게는\n",
    "\n",
    "$\\frac{g_{w+rv}(x)-g_{w-rv}(x)}{2r}$"
   ]
  },
  {
   "cell_type": "code",
   "execution_count": 2,
   "metadata": {
    "collapsed": true
   },
   "outputs": [],
   "source": [
    "def weight_update(w, v, r):\n",
    "    # w: weights of neural network (tuple)\n",
    "    # v: value for delta w (dictionary, e.g., gradient value)\n",
    "    # r: hyperparameter for a gradient (scalar)\n",
    "\n",
    "    for p in w:\n",
    "        p.value += r * v[p]"
   ]
  },
  {
   "cell_type": "code",
   "execution_count": 3,
   "metadata": {
    "collapsed": true
   },
   "outputs": [],
   "source": [
    "def HVP(y, x, v):\n",
    "    # Calculate Hessian vector product \n",
    "    # y: scalar function to be differentiated (function, e.g. cross entropy loss)\n",
    "    # x: feed_dict value for the network (dictionary, e.g. {model.X: image_batch, model.y: label_batch})\n",
    "    # v: vector to be producted (by Hessian) (numeric dictionary, e.g., g(z_test))\n",
    "    ## w: variables to differentiate (numeric, e.g. neural network weight)\n",
    "    \n",
    "    # hyperparameter r\n",
    "    r = 1e-2\n",
    "    \n",
    "    assert type(x)==dict, \"Input of HVP is wrong. this should be dictionary\"\n",
    "     \n",
    "    w = y.parameters\n",
    "    \n",
    "    # gradient for plus\n",
    "    weight_update(w, v, +r)\n",
    "    g_plus = y.grad(x, wrt=params)\n",
    "  \n",
    "    # gradient for minus\n",
    "    weight_update(w, v, -2*r)\n",
    "    g_minus = y.grad(x, wrt=params)\n",
    "    \n",
    "    # weight reconstruction\n",
    "    weight_update(w, v, +r)\n",
    "    \n",
    "    hvp = {ks: (g_plus[ks] - g_minus[ks])/(2*r) for ks in g_plus.keys()}\n",
    "       \n",
    "    return hvp"
   ]
  },
  {
   "cell_type": "code",
   "execution_count": 4,
   "metadata": {
    "collapsed": true
   },
   "outputs": [],
   "source": [
    "def grad_inner_product(grad1, grad2):\n",
    "    # inner product for dictionary-format gradients (output scalar value)\n",
    "    \n",
    "    val = 0\n",
    "    \n",
    "    for ks in grad1.keys():\n",
    "        #C.inner(grad1[ks], grad2[ks])\n",
    "        val += np.sum(np.multiply(grad1[ks],grad2[ks]))\n",
    "        #val += np.dot(grad1[ks], grad2[ks])\n",
    "        \n",
    "    return val"
   ]
  },
  {
   "cell_type": "code",
   "execution_count": 5,
   "metadata": {
    "collapsed": false
   },
   "outputs": [
    {
     "data": {
      "text/plain": [
       "{Parameter('W', [], [1 x 1]): array([[ 0.99999905]], dtype=float32),\n",
       " Parameter('W', [], [1 x 1]): array([[ 0.99999905]], dtype=float32)}"
      ]
     },
     "execution_count": 5,
     "metadata": {},
     "output_type": "execute_result"
    }
   ],
   "source": [
    "# toy example for HVP\n",
    "\n",
    "x = C.input_variable(shape=(1,))\n",
    "h = C.layers.Dense(1, activation=None, init=C.uniform(1), bias=False)(x)\n",
    "y = C.layers.Dense(1, activation=None, init=C.uniform(1), bias=False)(h)\n",
    "\n",
    "params = y.parameters\n",
    "x_feed = {x:[[1.]]}\n",
    "v_feed = {p: np.ones_like(p.value) for p in params}\n",
    "\n",
    "HVP(y, x_feed, v_feed)\n",
    "\n",
    "# output should be 1, 1"
   ]
  },
  {
   "cell_type": "markdown",
   "metadata": {},
   "source": [
    "원래 답은 1.0, 1.0이 나와야 함. 이런 차이는 hyperparameter r과 관계가 있을 것. r이 작이질 수록 오차도 적어질 것으로 예상되지만, 지나치게 r이 적게 되면 precision number보다 적은 값이 나와서 문제가 생길 수 있음. 특히 gradient 값이 작은 부분에선 큰 문제가 됨."
   ]
  },
  {
   "cell_type": "markdown",
   "metadata": {},
   "source": [
    "# EMNIST DATASET & NETWORK"
   ]
  },
  {
   "cell_type": "code",
   "execution_count": 6,
   "metadata": {
    "collapsed": true
   },
   "outputs": [],
   "source": [
    "import os, sys\n",
    "sys.path.append('../refer/boot_strapping')\n",
    "import json\n",
    "\n",
    "from datasets import dataset28 as dataset\n",
    "\n",
    "import matplotlib.pyplot as plt\n",
    "from matplotlib.pyplot import imshow\n",
    "from torch.utils.data import DataLoader"
   ]
  },
  {
   "cell_type": "code",
   "execution_count": 7,
   "metadata": {
    "collapsed": true
   },
   "outputs": [],
   "source": [
    "def show_image_from_data(img):\n",
    "    # show image from dataset\n",
    "    # img: (C,W,H) numpy array\n",
    "    img_show = np.squeeze(np.transpose(img, [1,2,0]))\n",
    "    imshow(img_show)\n",
    "    plt.show()"
   ]
  },
  {
   "cell_type": "code",
   "execution_count": 8,
   "metadata": {
    "collapsed": false
   },
   "outputs": [
    {
     "name": "stdout",
     "output_type": "stream",
     "text": [
      "1000 <class 'datasets.dataset28.LazyDataset'>\n",
      "1000\n"
     ]
    }
   ],
   "source": [
    "# emnist dataset\n",
    "root_dir = '/Data/emnist/balanced/original'\n",
    "\n",
    "# sample sized\n",
    "trainval_list, anno_dict = dataset.read_data_subset(root_dir, mode='train1', sample_size=1000)\n",
    "test_list, _ = dataset.read_data_subset(root_dir, mode='validation1', sample_size=1000)\n",
    "\n",
    "with open('/Data/emnist/balanced/original/annotation/annotation1_wp_0.3.json','r') as fid:\n",
    "    noisy_anno_dict = json.load(fid)\n",
    "\n",
    "train_set = dataset.LazyDataset(root_dir, trainval_list, noisy_anno_dict)\n",
    "test_set = dataset.LazyDataset(root_dir, test_list, anno_dict)\n",
    "\n",
    "# emnist dataset: SANITY CHECK\n",
    "print(len(test_set), type(test_set))\n",
    "print(len(test_list))"
   ]
  },
  {
   "cell_type": "code",
   "execution_count": 9,
   "metadata": {
    "collapsed": false
   },
   "outputs": [
    {
     "name": "stdout",
     "output_type": "stream",
     "text": [
      "conv1.shape (64, 28, 28)\n",
      "pool1.shape (64, 14, 14)\n",
      "conv2.shape (128, 14, 14)\n",
      "pool2.shape (128, 7, 7)\n",
      "conv3.shape (256, 7, 7)\n",
      "pool3.shape (256, 4, 4)\n",
      "Test error rate: 0.1052667025862069\n",
      "Total tack time(sec): 3.5198941230773926\n",
      "Tact time per image(sec): 0.0035198941230773924\n",
      "Confusion matrix: \n",
      "[[17  0  0 ...,  0  0  0]\n",
      " [ 0  7  0 ...,  0  0  0]\n",
      " [ 0  0 21 ...,  0  0  0]\n",
      " ..., \n",
      " [ 0  0  0 ..., 14  0  0]\n",
      " [ 0  0  0 ...,  0 23  0]\n",
      " [ 0  0  0 ...,  0  0 22]]\n"
     ]
    }
   ],
   "source": [
    "# emnist network\n",
    "from models.nn import VGG as ConvNet\n",
    "\n",
    "hp_d = dict() # hyperparameters for a network\n",
    "model = ConvNet(train_set.__getitem__(0)[0].shape, len(anno_dict['classes']), **hp_d)\n",
    "model.logits.restore('/Data/checkpts/noisy/model_fold_1_trainval_ratio_1.0.dnn')\n",
    "\n",
    "# emnist network: SANITY CHECK\n",
    "start_time = time.time()\n",
    "ys, y_preds, test_score, confusion_matrix = model.predict(test_set, **hp_d)\n",
    "total_time = time.time() - start_time\n",
    "\n",
    "print('Test error rate: {}'.format(test_score))\n",
    "print('Total tack time(sec): {}'.format(total_time))\n",
    "print('Tact time per image(sec): {}'.format(total_time / len(test_list)))\n",
    "print('Confusion matrix: \\n{}'.format(confusion_matrix))"
   ]
  },
  {
   "cell_type": "code",
   "execution_count": 110,
   "metadata": {
    "collapsed": true
   },
   "outputs": [],
   "source": [
    "# stochastic estimation\n",
    "def IHVP(model, y, v, data_set): # data, network, etc. as we did in GradCAM\n",
    "    # Calculate inverse hessian vector product over the training set\n",
    "    # model: neural network model (e.g. model)\n",
    "    # y: scalar function output of the neural network (e.g. model.loss)\n",
    "    # v: vector to be producted by inverse hessian (i.e.H^-1 v) (e.g. v_test)\n",
    "    # data_set: training set to be summed in Hessian\n",
    "    \n",
    "    # hyperparameters (hp_d)\n",
    "    recursion_depth = 50\n",
    "    scale = 1e3\n",
    "    damping = 1.0 # paper ref:0.01\n",
    "    batch_size = 50\n",
    "    num_samples = 1 # the number of samples(:stochatic estimation of IF) to be averaged\n",
    "    \n",
    "    dataloader = DataLoader(data_set, batch_size, shuffle=True, num_workers=6)\n",
    "    \n",
    "    inv_hvps = []\n",
    "    \n",
    "    params = y.parameters\n",
    "    \n",
    "    for i in range(num_samples):\n",
    "        # obtain num_samples inverse hvps\n",
    "        cur_estimate = v\n",
    "        \n",
    "        for depth in range(recursion_depth):\n",
    "            # epoch-scale recursion depth\n",
    "            t1 = time.time()\n",
    "            for img, lb in dataloader:\n",
    "                img = img.numpy(); lb = lb.numpy()\n",
    "                x_feed = {model.X: img, model.y:lb}\n",
    "                hvp = HVP(y,x_feed,cur_estimate)\n",
    "                # cur_estimate = v + (1-damping)*cur_estimate + 1/scale*(hvp/batch_size)\n",
    "                cur_estimate = {ks: v[ks] + (1-damping)*cur_estimate[ks] - (1/scale)*hvp[ks]/batch_size for ks in cur_estimate.keys()}\n",
    "                #break\n",
    "            print(\"Recursion depth: {}, norm: {}, time: {} \\n\".format(depth, np.sqrt(grad_inner_product(cur_estimate,cur_estimate)),time.time()-t1))\n",
    "        \n",
    "        inv_hvp = {ks: (1/scale)*cur_estimate[ks] for ks in cur_estimate.keys()}\n",
    "        inv_hvps.append(inv_hvp)\n",
    "    \n",
    "    return inv_hvps\n",
    "    \n",
    "    # average among samples\n",
    "    #ihvp = average(inv_hvps)\n",
    "    #return ihvp"
   ]
  },
  {
   "cell_type": "code",
   "execution_count": 11,
   "metadata": {
    "collapsed": false,
    "scrolled": true
   },
   "outputs": [
    {
     "data": {
      "image/png": "[encoded data removed]",
      "text/plain": [
       "<Figure size 432x288 with 1 Axes>"
      ]
     },
     "metadata": {},
     "output_type": "display_data"
    },
    {
     "name": "stdout",
     "output_type": "stream",
     "text": [
      "ground truth label:  I\n",
      "network prediction:  1\n"
     ]
    },
    {
     "data": {
      "image/png": "[encoded data removed]",
      "text/plain": [
       "<Figure size 432x288 with 1 Axes>"
      ]
     },
     "metadata": {},
     "output_type": "display_data"
    },
    {
     "name": "stdout",
     "output_type": "stream",
     "text": [
      "0.00323816783869\n",
      "2368.28414797\n"
     ]
    }
   ],
   "source": [
    "# hessian vector product w.r.t. test image\n",
    "\n",
    "params = model.logits.parameters\n",
    "\n",
    "img_test, lb_test = test_set.__getitem__(1)\n",
    "show_image_from_data(img_test)\n",
    "\n",
    "print('ground truth label: ', anno_dict['classes'][str(np.argmax(lb_test))])\n",
    "print('network prediction: ', anno_dict['classes'][str(np.argmax(model.logits.eval({model.X:img_test})))])\n",
    "\n",
    "v_test = model.loss.grad({model.X:img_test, model.y:lb_test}, wrt=params)\n",
    "\n",
    "# HVP(y,x,v)\n",
    "img, lb = train_set.__getitem__(1)\n",
    "img.shape\n",
    "show_image_from_data(img)\n",
    "\n",
    "v_train = model.loss.grad({model.X:img, model.y:lb}, wrt=params)\n",
    "\n",
    "hvp = HVP(model.loss, {model.X:img, model.y:lb}, v_test)\n",
    "#model.logits.restore('/Data/checkpts/noisy/model_fold_1_trainval_ratio_1.0.dnn')\n",
    "\n",
    "print(grad_inner_product(hvp, v_test))\n",
    "print(grad_inner_product(v_test,v_test))"
   ]
  },
  {
   "cell_type": "code",
   "execution_count": 19,
   "metadata": {
    "collapsed": false
   },
   "outputs": [
    {
     "data": {
      "image/png": "[encoded data removed]",
      "text/plain": [
       "<Figure size 432x288 with 1 Axes>"
      ]
     },
     "metadata": {},
     "output_type": "display_data"
    },
    {
     "name": "stdout",
     "output_type": "stream",
     "text": [
      "Recursion depth: 0, norm: 48.66894139873618, time: 5.391250371932983 \n",
      "\n",
      "Recursion depth: 1, norm: 48.5362243354447, time: 5.441539287567139 \n",
      "\n"
     ]
    },
    {
     "data": {
      "text/plain": [
       "-3.0618622361583979e-10"
      ]
     },
     "execution_count": 19,
     "metadata": {},
     "output_type": "execute_result"
    }
   ],
   "source": [
    "img, lb = train_set.__getitem__(1)\n",
    "show_image_from_data(img)\n",
    "\n",
    "v_train = model.loss.grad({model.X:img, model.y:lb}, wrt=params)\n",
    "\n",
    "model.logits.restore('/Data/checkpts/noisy/model_fold_1_trainval_ratio_1.0.dnn')\n",
    "model.loss.eval({model.X: img, model.y:lb})\n",
    "\n",
    "ihvp = IHVP(model, model.loss, v_test, train_set)\n",
    "grad_inner_product(ihvp[0], v_train)/1000 # loss difference = -1/num_sample * influence function"
   ]
  },
  {
   "cell_type": "markdown",
   "metadata": {},
   "source": [
    "IHVP를 구하면 발산함!\n",
    "\n",
    "아마 복잡한 network 때문일 수도 있음.\n",
    "\n",
    "따라서 단순한 closed-form이 있는 toy example을 만들고, 이에 대해서 해볼 것.\n",
    "(우선 잘 돌아가는지 확인하기 위해서)\n",
    "\n",
    "그리고 epoch 단위는 너무 큰 거일 수도 있음.\n",
    "따라서 step 단위로 바꿀 수 있게도 생각해볼 것\n",
    "\n",
    "step마다 얼마나 근접하는지도 check\n",
    "\n",
    "SE가 잘 동작하는데 복잡한 network 상황이기 때문에 안 되는 거라면 \n",
    "\n",
    "- convex relaxation of network (refer ICML)\n",
    "- frozen network (feature layer froze)\n",
    "- simple network (데이터가 얼마나 어려운지를(soft-label) 보는 것이기 때문에 굳이 현 네트워크일 필요는 없음. 따라서 정말 간단한 network를 만들고 학습하여 $\\hat{\\theta}$을 얻은 후 이를 가지고 IF를 구함."
   ]
  },
  {
   "cell_type": "code",
   "execution_count": 139,
   "metadata": {
    "collapsed": false,
    "scrolled": true
   },
   "outputs": [
    {
     "name": "stdout",
     "output_type": "stream",
     "text": [
      "w1 = \n",
      " [[-0.60081786]] \n",
      "w2 = \n",
      " [[ 0.65675038]] \n",
      "loss = \n",
      " [-3.20114636]\n",
      "hvp {Parameter('W', [], [1 x 1]): array([[ 6.89029694]], dtype=float32), Parameter('W', [], [1 x 1]): array([[ 7.43865967]], dtype=float32)}\n",
      "w1* = \n",
      " [[ 1.]] \n",
      "w2* = \n",
      " [[ 1.]]\n",
      "w^*: (array([[ 1.]], dtype=float32), array([[ 1.]], dtype=float32)) loss: [-1.]\n",
      "\n",
      "###### ihvp start ######\n",
      "\n",
      "#w: \n",
      " [array([[ 1.]], dtype=float32), array([[ 1.]], dtype=float32)] \n",
      "#hvp: \n",
      " {Parameter('W', [], [1 x 1]): array([[-18.02444458]], dtype=float32), Parameter('W', [], [1 x 1]): array([[-18.02444458]], dtype=float32)} \n",
      "#ihvp: \n",
      " {Parameter('W', [], [1 x 1]): array([[ 20.02444458]], dtype=float32), Parameter('W', [], [1 x 1]): array([[ 20.02444458]], dtype=float32)}\n",
      "#w: \n",
      " [array([[ 1.]], dtype=float32), array([[ 1.]], dtype=float32)] \n",
      "#hvp: \n",
      " {Parameter('W', [], [1 x 1]): array([[-440.50216675]], dtype=float32), Parameter('W', [], [1 x 1]): array([[-440.50216675]], dtype=float32)} \n",
      "#ihvp: \n",
      " {Parameter('W', [], [1 x 1]): array([[ 461.52661133]], dtype=float32), Parameter('W', [], [1 x 1]): array([[ 461.52661133]], dtype=float32)}\n",
      "Recursion depth: 0, norm: 652.6971924254003, time: 0.12923860549926758 \n",
      "\n",
      "#w: \n",
      " [array([[ 1.]], dtype=float32), array([[ 1.]], dtype=float32)] \n",
      "#hvp: \n",
      " {Parameter('W', [], [1 x 1]): array([[-8307.60644531]], dtype=float32), Parameter('W', [], [1 x 1]): array([[-8307.60644531]], dtype=float32)} \n",
      "#ihvp: \n",
      " {Parameter('W', [], [1 x 1]): array([[ 8770.1328125]], dtype=float32), Parameter('W', [], [1 x 1]): array([[ 8770.1328125]], dtype=float32)}\n",
      "#w: \n",
      " [array([[ 1.]], dtype=float32), array([[ 1.]], dtype=float32)] \n",
      "#hvp: \n",
      " {Parameter('W', [], [1 x 1]): array([[-193482.578125]], dtype=float32), Parameter('W', [], [1 x 1]): array([[-193482.578125]], dtype=float32)} \n",
      "#ihvp: \n",
      " {Parameter('W', [], [1 x 1]): array([[ 202253.71875]], dtype=float32), Parameter('W', [], [1 x 1]): array([[ 202253.71875]], dtype=float32)}\n",
      "Recursion depth: 1, norm: 286029.95535432996, time: 0.19130277633666992 \n",
      "\n",
      "#w: \n",
      " [array([[ 1.]], dtype=float32), array([[ 1.]], dtype=float32)] \n",
      "#hvp: \n",
      " {Parameter('W', [], [1 x 1]): array([[-11068387.]], dtype=float32), Parameter('W', [], [1 x 1]): array([[-11068387.]], dtype=float32)} \n",
      "#ihvp: \n",
      " {Parameter('W', [], [1 x 1]): array([[ 11270642.]], dtype=float32), Parameter('W', [], [1 x 1]): array([[ 11270642.]], dtype=float32)}\n",
      "#w: \n",
      " [array([[ 1.]], dtype=float32), array([[ 1.]], dtype=float32)] \n",
      "#hvp: \n",
      " {Parameter('W', [], [1 x 1]): array([[ -1.14554687e+12]], dtype=float32), Parameter('W', [], [1 x 1]): array([[ -1.14554687e+12]], dtype=float32)} \n",
      "#ihvp: \n",
      " {Parameter('W', [], [1 x 1]): array([[  1.14555814e+12]], dtype=float32), Parameter('W', [], [1 x 1]): array([[  1.14555814e+12]], dtype=float32)}\n",
      "Recursion depth: 2, norm: 1620063820357.9084, time: 0.20438528060913086 \n",
      "\n",
      "#w: \n",
      " [array([[ 1.]], dtype=float32), array([[ 1.]], dtype=float32)] \n",
      "#hvp: \n",
      " {Parameter('W', [], [1 x 1]): array([[ -1.20265577e+27]], dtype=float32), Parameter('W', [], [1 x 1]): array([[ -1.20265577e+27]], dtype=float32)} \n",
      "#ihvp: \n",
      " {Parameter('W', [], [1 x 1]): array([[  1.20265577e+27]], dtype=float32), Parameter('W', [], [1 x 1]): array([[  1.20265577e+27]], dtype=float32)}\n",
      "#w: \n",
      " [array([[ 0.]], dtype=float32), array([[ 0.]], dtype=float32)] \n",
      "#hvp: \n",
      " {Parameter('W', [], [1 x 1]): array([[-inf]], dtype=float32), Parameter('W', [], [1 x 1]): array([[-inf]], dtype=float32)} \n",
      "#ihvp: \n",
      " {Parameter('W', [], [1 x 1]): array([[ inf]], dtype=float32), Parameter('W', [], [1 x 1]): array([[ inf]], dtype=float32)}\n",
      "Recursion depth: 3, norm: inf, time: 0.21805763244628906 \n",
      "\n",
      "#w: \n",
      " [array([[ nan]], dtype=float32), array([[ nan]], dtype=float32)] \n",
      "#hvp: \n",
      " {Parameter('W', [], [1 x 1]): array([[ nan]], dtype=float32), Parameter('W', [], [1 x 1]): array([[ nan]], dtype=float32)} \n",
      "#ihvp: \n",
      " {Parameter('W', [], [1 x 1]): array([[ nan]], dtype=float32), Parameter('W', [], [1 x 1]): array([[ nan]], dtype=float32)}\n",
      "#w: \n",
      " [array([[ nan]], dtype=float32), array([[ nan]], dtype=float32)] \n",
      "#hvp: \n",
      " {Parameter('W', [], [1 x 1]): array([[ nan]], dtype=float32), Parameter('W', [], [1 x 1]): array([[ nan]], dtype=float32)} \n",
      "#ihvp: \n",
      " {Parameter('W', [], [1 x 1]): array([[ nan]], dtype=float32), Parameter('W', [], [1 x 1]): array([[ nan]], dtype=float32)}\n",
      "Recursion depth: 4, norm: nan, time: 0.2174818515777588 \n",
      "\n",
      "[{Parameter('W', [], [1 x 1]): array([[ nan]], dtype=float32), Parameter('W', [], [1 x 1]): array([[ nan]], dtype=float32)}]\n"
     ]
    },
    {
     "name": "stderr",
     "output_type": "stream",
     "text": [
      "/home/hwehee/anaconda3/envs/cntk/lib/python3.5/site-packages/ipykernel/__main__.py:7: RuntimeWarning: invalid value encountered in add\n"
     ]
    }
   ],
   "source": [
    "# toy example for IHVP: 1D example\n",
    "class SimpleNet(object):\n",
    "    def __init__(self):\n",
    "        self.X = C.input_variable(shape=(1,))\n",
    "        self.h = C.layers.Dense(1, activation=None, init=C.uniform(1), bias=False)(self.X)\n",
    "        self.pred = C.layers.Dense(1, activation=None, init=C.uniform(1), bias=False)(self.h)\n",
    "        self.y = C.input_variable(shape=(1,))\n",
    "        #self.loss = C.reduce_l2(self.pred-self.y)\n",
    "        self.loss = -C.squared_error(self.pred, self.y)\n",
    "        \n",
    "class SimpleDataset(object):\n",
    "    def __init__(self, images, labels):\n",
    "        self._images, self._labels = images, labels\n",
    "    \n",
    "    def __getitem__(self, index):\n",
    "        X = self._images[index]\n",
    "        y = self._labels[index]\n",
    "        \n",
    "        return X, y\n",
    "    \n",
    "    def __len__(self):\n",
    "        return len(self._images)\n",
    "    \n",
    "def HVP(y, x, v):\n",
    "    # Calculate Hessian vector product \n",
    "    # y: scalar function to be differentiated (function, e.g. cross entropy loss)\n",
    "    # x: feed_dict value for the network (dictionary, e.g. {model.X: image_batch, model.y: label_batch})\n",
    "    # v: vector to be producted (by Hessian) (numeric dictionary, e.g., g(z_test))\n",
    "    ## w: variables to differentiate (numeric, e.g. neural network weight)\n",
    "    \n",
    "    # hyperparameter r\n",
    "    r = 1e-5\n",
    "    \n",
    "    assert type(x)==dict, \"Input of HVP is wrong. This should be dictionary\"\n",
    "     \n",
    "    w = y.parameters\n",
    "    \n",
    "    # gradient for plus\n",
    "    weight_update(w, v, +r)\n",
    "    g_plus = y.grad(x, wrt=params)\n",
    "  \n",
    "    # gradient for minus\n",
    "    weight_update(w, v, -2*r)\n",
    "    g_minus = y.grad(x, wrt=params)\n",
    "    \n",
    "    # weight reconstruction\n",
    "    weight_update(w, v, +r)\n",
    "    \n",
    "    hvp = {ks: (g_plus[ks] - g_minus[ks])/(2*r) for ks in g_plus.keys()}\n",
    "       \n",
    "    return hvp\n",
    "    \n",
    "# stochastic estimation\n",
    "def IHVP(model, y, v, data_set, verbose=False): # data, network, etc. as we did in GradCAM\n",
    "    # Calculate inverse hessian vector product over the training set\n",
    "    # model: neural network model (e.g. model)\n",
    "    # y: scalar function output of the neural network (e.g. model.loss)\n",
    "    # v: vector to be producted by inverse hessian (i.e.H^-1 v) (e.g. v_test)\n",
    "    # data_set: training set to be summed in Hessian\n",
    "    \n",
    "    # hyperparameters (hp_d)\n",
    "    recursion_depth = 5\n",
    "    scale = 1\n",
    "    damping = 0.0 # paper ref:0.01\n",
    "    batch_size = 1\n",
    "    num_samples = 1 # the number of samples(:stochatic estimation of IF) to be averaged\n",
    "    \n",
    "    dataloader = DataLoader(data_set, batch_size, shuffle=True, num_workers=6)\n",
    "    \n",
    "    inv_hvps = []\n",
    "    \n",
    "    params = y.parameters\n",
    "    \n",
    "    for i in range(num_samples):\n",
    "        # obtain num_samples inverse hvps\n",
    "        cur_estimate = v\n",
    "        \n",
    "        for depth in range(recursion_depth):\n",
    "            # epoch-scale recursion depth\n",
    "            t1 = time.time()\n",
    "            for img, lb in dataloader:\n",
    "                img = img.numpy(); lb = lb.numpy()\n",
    "                x_feed = {model.X: img, model.y:lb}\n",
    "                hvp = HVP(y,x_feed,cur_estimate)\n",
    "                # cur_estimate = v + (1-damping)*cur_estimate + 1/scale*(hvp/batch_size)\n",
    "                cur_estimate = {ks: v[ks] + (1-damping)*cur_estimate[ks] - (1/scale)*hvp[ks]/batch_size for ks in cur_estimate.keys()}\n",
    "                #break\n",
    "                if verbose:\n",
    "                    print('#w: \\n', list(map(lambda x: x.value, params)), '\\n#hvp: \\n', hvp, '\\n#ihvp: \\n', cur_estimate)\n",
    "            print(\"Recursion depth: {}, norm: {}, time: {} \\n\".format(depth, np.sqrt(grad_inner_product(cur_estimate,cur_estimate)),time.time()-t1))\n",
    "        \n",
    "        inv_hvp = {ks: (1/scale)*cur_estimate[ks] for ks in cur_estimate.keys()}\n",
    "        inv_hvps.append(inv_hvp)\n",
    "    \n",
    "    return inv_hvps\n",
    "    \n",
    "    # average among samples\n",
    "    #ihvp = average(inv_hvps)\n",
    "    #return ihvp\n",
    "        \n",
    "net = SimpleNet()\n",
    "\n",
    "params = net.pred.parameters\n",
    "\n",
    "x_feed = {net.X:np.array([[2.]],dtype=np.float32), net.y:np.array([[1.]],dtype=np.float32)}\n",
    "v_feed = {p: np.ones_like(p.value) for p in params}\n",
    "\n",
    "print('w1 = \\n', params[0].value, '\\nw2 = \\n', params[1].value, '\\nloss = \\n', net.loss.eval(x_feed))\n",
    "\n",
    "print('hvp', HVP(net.loss, x_feed, v_feed))\n",
    "\n",
    "params[0].value= np.array([[1.]],dtype=np.float32) # optimal weight w.r.t training points\n",
    "params[1].value= np.array([[1.]],dtype=np.float32) # optimal weight w.r.t training points\n",
    "\n",
    "print('w1* = \\n', params[0].value, '\\nw2* = \\n', params[1].value)\n",
    "print('w^*:', (params[0].value, params[1].value), 'loss:', net.loss.eval(x_feed))\n",
    "\n",
    "images = np.array([[2.],[2.]], dtype=np.float32)\n",
    "labels = np.array([[1.5],[.5]], dtype=np.float32)\n",
    "train_set = SimpleDataset(images, labels)\n",
    "\n",
    "print('\\n###### ihvp start ######\\n')\n",
    "ihvp = IHVP(net, net.loss, v_feed, train_set, verbose=True)\n",
    "\n",
    "print(ihvp)"
   ]
  },
  {
   "cell_type": "markdown",
   "metadata": {},
   "source": [
    "애초에 stochastic estimation을 썼을 경우 잘 안되는 example.\n",
    "hvp가 아무리 잘 되어도 발산함.\n",
    "\n",
    "strictly convex\n",
    "\n",
    "$\n",
    "L(w) = -\\sum{(y_i - w_1 w_2 x_i)^2} \\\\\n",
    "\\text{Assume: single data point, (2,1)} \\\\\n",
    "L(w) = -(1-2 w_1 w_2)^2 \\\\\n",
    "H = -\\left[ {\\begin{array}{cc}\n",
    "   8w_2^2  & 16w_1w_2-4 \\\\\n",
    "   16w_1w_2-4 & 8w_1^2 \\\\\n",
    "  \\end{array} } \\right] \\\\\n",
    "H^{-1} = -\\frac{1}{64w_1^2w_2^2-(16w_1w_2-4)^2}\n",
    "\\left[ {\\begin{array}{cc}\n",
    "   8w_1^2  & -16w_1w_2-4 \\\\\n",
    "   -16w_1w_2-4 & 8w_2^2 \\\\\n",
    "  \\end{array} } \\right] \\\\\n",
    "\\text{Assume: (w_1,w_2)=(1,1)} \\\\\n",
    "H = -\\left[ {\\begin{array}{cc}\n",
    "   8  & 12 \\\\\n",
    "   12 & 8  \\\\\n",
    "  \\end{array} } \\right] \\\\\n",
    "H^{-1} = -\\frac{1}{20} \n",
    "\\left[ {\\begin{array}{cc}\n",
    "   2  & -3 \\\\\n",
    "   -3 & 2  \\\\\n",
    "  \\end{array} } \\right] \\\\\n",
    "\\text{Assume: v=[1.,1.]} \\\\\n",
    "H^{-1}v = (0.05, 0.05) \\\\\n",
    "$\n",
    "\n",
    "하지만 stochastic estimation으로 생각해보면, initial point는 (1,1)에서 hvp를 구하면 -(20, 20).\n",
    "현재 cur_estimate은 약 +(20,20)이 된다.\n",
    "이를 가지고 다시 hvp를 구하면 약 +(400, 400) 정도가 된다.\n",
    "이를 계속 반복하게 되면 발산하게 된다.\n",
    "\n",
    "따라서 이는 hvp에서 오차 때문에 발생한 문제가 아니라 stochastic estimation 자체의 불안정성 때문이라고 볼 수 있다.\n",
    "(참고: tensorflow의 tf.gradients를 사용해서 hvp를 구현할 경우, 오차가 거의 없는 상태로 hvp를 얻어낼 수 있다.)\n",
    "\n",
    "이후 conjugate gradient를 구현해서 실험해 볼 것이다.\n",
    "\n",
    "### CONVEX 문제가 아니었음. 해당 H의 eigen value를 구하면 20, -4가 나옴!\n",
    "\n",
    "w를 잘 잡으면 hessian을 convex하게 만들 수 있음. \n",
    "즉 특정 w에 대해서는 convex한 hessian을 얻을 수 있지만, 또 특정 w에 대해서는 convex하지 않음.\n",
    "만약 w를 고정해서 hessian matrix를 convex하게 잡고 난 다음엔 L로부터 inverse hessian vector product를 하는게 가능한가?\n",
    "\n",
    "HVP를 할 때 w를 $w+r*v$ 등으로 비틀어서 보게 되는데, 이런 경우 convex 하지 않으면 문제가 발생할 수도?\n",
    "는 아님!. 저건 그냥 미분 정의에서 나오는 거라서 convex 안해도 됨."
   ]
  },
  {
   "cell_type": "markdown",
   "metadata": {},
   "source": [
    "gradient가 w가 1개일 경우 dictionary가 아니라 array가 됨. (일관성 무엇?)\n",
    "\n",
    "또 사실 w가 1개일 경우 hessian이 matrix가 아니기 때문에 너무 trivial한 경우라고 생각됨.\n",
    "\n",
    "### answer = 1/12 [[1.], [1.]]\n",
    "\n",
    "2차원에서 수렴하는거 step마다 찍기!"
   ]
  },
  {
   "cell_type": "markdown",
   "metadata": {},
   "source": [
    "## 추가해볼 것\n",
    "\n",
    "- Hessian 보고 eigen value 구해서 positive definite인지 check.\n",
    "- 아니라면 warning message 추가하기. (이거 때문에 잘 못 되는건지 확인하기 위해서)"
   ]
  },
  {
   "cell_type": "markdown",
   "metadata": {},
   "source": [
    "## Conjugate gradient"
   ]
  },
  {
   "cell_type": "code",
   "execution_count": 171,
   "metadata": {
    "collapsed": true
   },
   "outputs": [],
   "source": [
    "def grad_inner_product(grad1, grad2):\n",
    "    # inner product for dictionary-format gradients (output scalar value)\n",
    "    \n",
    "    val = 0\n",
    "    \n",
    "    for ks in grad1.keys():\n",
    "        #C.inner(grad1[ks], grad2[ks])\n",
    "        val += np.sum(np.multiply(grad1[ks],grad2[ks]))\n",
    "        #val += np.dot(grad1[ks], grad2[ks])\n",
    "        \n",
    "    return val\n",
    "\n",
    "def weight_update(w, v, r):\n",
    "    # w: weights of neural network (tuple)\n",
    "    # v: value for delta w (dictionary, e.g., gradient value)\n",
    "    # r: hyperparameter for a gradient (scalar)\n",
    "\n",
    "    for p in w:\n",
    "        p.value += r * v[p]\n",
    "        \n",
    "def HVP(y, x, v):\n",
    "    # Calculate Hessian vector product \n",
    "    # y: scalar function to be differentiated (function, e.g. cross entropy loss)\n",
    "    # x: feed_dict value for the network (dictionary, e.g. {model.X: image_batch, model.y: label_batch})\n",
    "    # v: vector to be producted (by Hessian) (numeric dictionary, e.g., g(z_test))\n",
    "    ## w: variables to differentiate (numeric, e.g. neural network weight)\n",
    "    \n",
    "    # hyperparameter r\n",
    "    r = 1e-5\n",
    "    \n",
    "    assert type(x)==dict, \"Input of HVP is wrong. This should be dictionary\"\n",
    "     \n",
    "    w = y.parameters\n",
    "    \n",
    "    # gradient for plus\n",
    "    weight_update(w, v, +r)\n",
    "    g_plus = y.grad(x, wrt=params)\n",
    "  \n",
    "    # gradient for minus\n",
    "    weight_update(w, v, -2*r)\n",
    "    g_minus = y.grad(x, wrt=params)\n",
    "    \n",
    "    # weight reconstruction\n",
    "    weight_update(w, v, +r)\n",
    "    \n",
    "    hvp = {ks: (g_plus[ks] - g_minus[ks])/(2*r) for ks in g_plus.keys()}\n",
    "       \n",
    "    return hvp\n",
    "\n",
    "def HVP_minibatch_val(model, y, v, data_set):\n",
    "    # Calculate Hessian vector product w.r.t whole dataset\n",
    "    # model: neural network model (e.g. model)\n",
    "    # y: scalar function output of the neural network (e.g. model.loss)\n",
    "    # v: vector to be producted by inverse hessian (i.e.H^-1 v) (e.g. v_test)\n",
    "    # data_set: training set to be summed in Hessian\n",
    "    \n",
    "    # hyperparameters\n",
    "    damping = 0.0 # convexity term; paper ref:0.01\n",
    "    batch_size = 1\n",
    "    \n",
    "    hvp_batch = {ks: [] for ks in v.keys()}\n",
    "    \n",
    "    dataloader = DataLoader(data_set, batch_size, shuffle=True, num_workers=6)\n",
    "    \n",
    "    for img, lb in dataloader:\n",
    "        img = img.numpy(); lb = lb.numpy()\n",
    "        x_feed = {model.X: img, model.y:lb}\n",
    "        hvp = HVP(y,x_feed,v)\n",
    "        # add hvp value\n",
    "        [hvp_batch[ks].append(hvp[ks]/img.shape[0]) for ks in hvp.keys()]\n",
    "        \n",
    "    hvp_mean = {ks: np.mean(hvp_batch[ks], axis=0) + damping*v[ks] for ks in hvp_batch.keys()}\n",
    "    \n",
    "    return hvp_mean\n",
    "\n",
    "from scipy.optimize import fmin_ncg\n",
    "\n",
    "# 정리정리!! 함수 인풋도 정리!\n",
    "# x: solution vector for conjugate gradient, whose shape is same as flattened gradient. NOT feed dict value\n",
    "\n",
    "def dic2vec(dic):\n",
    "    # convert a dictionary with matrix values to a 1D vector\n",
    "    # e.g. gradient of network -> 1D vector\n",
    "    vec = np.concatenate([val.reshape(-1) for val in dic.values()])\n",
    "    \n",
    "    return vec\n",
    "\n",
    "# Do we need this?\n",
    "#def vec2dic(vec, fmt):\n",
    "    # convert a 1D vector to a dictionary of format fmt\n",
    "    # fmt = {key: val.shape for (key,val) in dict}\n",
    "\n",
    "def get_fmin_loss_fn(model, y, data_set, v):\n",
    "    \n",
    "    def get_fmin_loss(x):\n",
    "        hvp_val = HVP_minibatch_val(model, y, x, data_set)\n",
    "        hvp_flat = dic2vec(hvp_val)\n",
    "        \n",
    "        return 0.5 * grad_inner_product(hvp_flat, x) - grad_inner_product(v, x)\n",
    "    \n",
    "    return get_fmin_loss\n",
    "\n",
    "def get_fmin_grad_fn(model, y, data_set, v):\n",
    "    \n",
    "    def get_fmin_grad(x):\n",
    "        hvp_val = HVP_minibatch_val(model, y, x, data_set)\n",
    "        hvp_flat = dic2vec(hvp_val)\n",
    "        v_flat = dic2vec(v)\n",
    "        \n",
    "        return hvp_flat - v_flat\n",
    "    \n",
    "    return get_fmin_grad\n",
    "\n",
    "def get_fmin_hvp(model, y, x, data_set):\n",
    "    hvp_val = HVP_minibatch_val(model, y, x, data_set)\n",
    "    hvp_flat = dic2vec(hvp_val)\n",
    "    \n",
    "    return hvp_flat\n",
    "\n",
    "def get_inverse_hvp_cg(model, y, data_set, v):\n",
    "    # return x, which is the solution whose value is H^-1 v\n",
    "    \n",
    "    fmin_loss_fn = get_fmin_loss_fn(model, y, data_set, v)\n",
    "    fmin_grad_fn = get_fmin_grad_fn(model, y, data_set, v)\n",
    "    \n",
    "    fmin_results = fmin_ncg(\\\n",
    "                           f = fmin_loss_fn,\\\n",
    "                           x0 = dic2vec(v),\\\n",
    "                           fprime = fmin_grad_fn,\n",
    "                           fhess_p = get_fmin_hvp,\\\n",
    "                           avextol = 1e-8,\\\n",
    "                           maxiter = 1e2)\n",
    "    \n",
    "    return fmin_results\n",
    "    #return vec2dic(fmin_results)"
   ]
  },
  {
   "cell_type": "code",
   "execution_count": 172,
   "metadata": {
    "collapsed": false
   },
   "outputs": [
    {
     "name": "stdout",
     "output_type": "stream",
     "text": [
      "w1 = \n",
      " [[ 0.23605482]] \n",
      "w2 = \n",
      " [[-0.94090229]] \n",
      "loss = \n",
      " [-2.08573985]\n",
      "hvp {Parameter('W', [], [1 x 1]): array([[ 0.47683716]], dtype=float32), Parameter('W', [], [1 x 1]): array([[ 7.10487366]], dtype=float32)}\n",
      "hvp_batch {Parameter('W', [], [1 x 1]): array([[ 0.47683716]], dtype=float32), Parameter('W', [], [1 x 1]): array([[ 7.10487366]], dtype=float32)}\n"
     ]
    },
    {
     "ename": "AttributeError",
     "evalue": "'numpy.ndarray' object has no attribute 'keys'",
     "output_type": "error",
     "traceback": [
      "\u001b[0;31m---------------------------------------------------------------------------\u001b[0m",
      "\u001b[0;31mAttributeError\u001b[0m                            Traceback (most recent call last)",
      "\u001b[0;32m<ipython-input-172-7a7b8c2a4538>\u001b[0m in \u001b[0;36m<module>\u001b[0;34m()\u001b[0m\n\u001b[1;32m     68\u001b[0m \u001b[0mprint\u001b[0m\u001b[0;34m(\u001b[0m\u001b[0;34m'hvp_batch'\u001b[0m\u001b[0;34m,\u001b[0m \u001b[0mHVP_minibatch_val\u001b[0m\u001b[0;34m(\u001b[0m\u001b[0mnet\u001b[0m\u001b[0;34m,\u001b[0m \u001b[0mnet\u001b[0m\u001b[0;34m.\u001b[0m\u001b[0mloss\u001b[0m\u001b[0;34m,\u001b[0m \u001b[0mv_feed\u001b[0m\u001b[0;34m,\u001b[0m \u001b[0mtrain_set\u001b[0m\u001b[0;34m)\u001b[0m\u001b[0;34m)\u001b[0m\u001b[0;34m\u001b[0m\u001b[0m\n\u001b[1;32m     69\u001b[0m \u001b[0;34m\u001b[0m\u001b[0m\n\u001b[0;32m---> 70\u001b[0;31m \u001b[0mprint\u001b[0m\u001b[0;34m(\u001b[0m\u001b[0;34m'inverse hvp'\u001b[0m\u001b[0;34m,\u001b[0m \u001b[0mget_inverse_hvp_cg\u001b[0m\u001b[0;34m(\u001b[0m\u001b[0mmodel\u001b[0m\u001b[0;34m,\u001b[0m \u001b[0my\u001b[0m\u001b[0;34m,\u001b[0m \u001b[0mtrain_set\u001b[0m\u001b[0;34m,\u001b[0m \u001b[0mv_feed\u001b[0m\u001b[0;34m)\u001b[0m\u001b[0;34m)\u001b[0m\u001b[0;34m\u001b[0m\u001b[0m\n\u001b[0m",
      "\u001b[0;32m<ipython-input-171-813dde1b9d68>\u001b[0m in \u001b[0;36mget_inverse_hvp_cg\u001b[0;34m(model, y, data_set, v)\u001b[0m\n\u001b[1;32m     90\u001b[0m                            \u001b[0mfhess_p\u001b[0m \u001b[0;34m=\u001b[0m \u001b[0mget_fmin_hvp\u001b[0m\u001b[0;34m,\u001b[0m\u001b[0;31m\\\u001b[0m\u001b[0;34m\u001b[0m\u001b[0m\n\u001b[1;32m     91\u001b[0m                            \u001b[0mavextol\u001b[0m \u001b[0;34m=\u001b[0m \u001b[0;36m1e-8\u001b[0m\u001b[0;34m,\u001b[0m\u001b[0;31m\\\u001b[0m\u001b[0;34m\u001b[0m\u001b[0m\n\u001b[0;32m---> 92\u001b[0;31m                            maxiter = 1e2)\n\u001b[0m\u001b[1;32m     93\u001b[0m \u001b[0;34m\u001b[0m\u001b[0m\n\u001b[1;32m     94\u001b[0m     \u001b[0;32mreturn\u001b[0m \u001b[0mfmin_results\u001b[0m\u001b[0;34m\u001b[0m\u001b[0m\n",
      "\u001b[0;32m~/anaconda3/envs/cntk/lib/python3.5/site-packages/scipy/optimize/optimize.py\u001b[0m in \u001b[0;36mfmin_ncg\u001b[0;34m(f, x0, fprime, fhess_p, fhess, args, avextol, epsilon, maxiter, full_output, disp, retall, callback)\u001b[0m\n\u001b[1;32m   1459\u001b[0m \u001b[0;34m\u001b[0m\u001b[0m\n\u001b[1;32m   1460\u001b[0m     res = _minimize_newtoncg(f, x0, args, fprime, fhess, fhess_p,\n\u001b[0;32m-> 1461\u001b[0;31m                              callback=callback, **opts)\n\u001b[0m\u001b[1;32m   1462\u001b[0m \u001b[0;34m\u001b[0m\u001b[0m\n\u001b[1;32m   1463\u001b[0m     \u001b[0;32mif\u001b[0m \u001b[0mfull_output\u001b[0m\u001b[0;34m:\u001b[0m\u001b[0;34m\u001b[0m\u001b[0m\n",
      "\u001b[0;32m~/anaconda3/envs/cntk/lib/python3.5/site-packages/scipy/optimize/optimize.py\u001b[0m in \u001b[0;36m_minimize_newtoncg\u001b[0;34m(fun, x0, args, jac, hess, hessp, callback, xtol, eps, maxiter, disp, return_all, **unknown_options)\u001b[0m\n\u001b[1;32m   1540\u001b[0m     \u001b[0mk\u001b[0m \u001b[0;34m=\u001b[0m \u001b[0;36m0\u001b[0m\u001b[0;34m\u001b[0m\u001b[0m\n\u001b[1;32m   1541\u001b[0m     \u001b[0mgfk\u001b[0m \u001b[0;34m=\u001b[0m \u001b[0;32mNone\u001b[0m\u001b[0;34m\u001b[0m\u001b[0m\n\u001b[0;32m-> 1542\u001b[0;31m     \u001b[0mold_fval\u001b[0m \u001b[0;34m=\u001b[0m \u001b[0mf\u001b[0m\u001b[0;34m(\u001b[0m\u001b[0mx0\u001b[0m\u001b[0;34m)\u001b[0m\u001b[0;34m\u001b[0m\u001b[0m\n\u001b[0m\u001b[1;32m   1543\u001b[0m     \u001b[0mold_old_fval\u001b[0m \u001b[0;34m=\u001b[0m \u001b[0;32mNone\u001b[0m\u001b[0;34m\u001b[0m\u001b[0m\n\u001b[1;32m   1544\u001b[0m     \u001b[0mfloat64eps\u001b[0m \u001b[0;34m=\u001b[0m \u001b[0mnumpy\u001b[0m\u001b[0;34m.\u001b[0m\u001b[0mfinfo\u001b[0m\u001b[0;34m(\u001b[0m\u001b[0mnumpy\u001b[0m\u001b[0;34m.\u001b[0m\u001b[0mfloat64\u001b[0m\u001b[0;34m)\u001b[0m\u001b[0;34m.\u001b[0m\u001b[0meps\u001b[0m\u001b[0;34m\u001b[0m\u001b[0m\n",
      "\u001b[0;32m~/anaconda3/envs/cntk/lib/python3.5/site-packages/scipy/optimize/optimize.py\u001b[0m in \u001b[0;36mfunction_wrapper\u001b[0;34m(*wrapper_args)\u001b[0m\n\u001b[1;32m    290\u001b[0m     \u001b[0;32mdef\u001b[0m \u001b[0mfunction_wrapper\u001b[0m\u001b[0;34m(\u001b[0m\u001b[0;34m*\u001b[0m\u001b[0mwrapper_args\u001b[0m\u001b[0;34m)\u001b[0m\u001b[0;34m:\u001b[0m\u001b[0;34m\u001b[0m\u001b[0m\n\u001b[1;32m    291\u001b[0m         \u001b[0mncalls\u001b[0m\u001b[0;34m[\u001b[0m\u001b[0;36m0\u001b[0m\u001b[0;34m]\u001b[0m \u001b[0;34m+=\u001b[0m \u001b[0;36m1\u001b[0m\u001b[0;34m\u001b[0m\u001b[0m\n\u001b[0;32m--> 292\u001b[0;31m         \u001b[0;32mreturn\u001b[0m \u001b[0mfunction\u001b[0m\u001b[0;34m(\u001b[0m\u001b[0;34m*\u001b[0m\u001b[0;34m(\u001b[0m\u001b[0mwrapper_args\u001b[0m \u001b[0;34m+\u001b[0m \u001b[0margs\u001b[0m\u001b[0;34m)\u001b[0m\u001b[0;34m)\u001b[0m\u001b[0;34m\u001b[0m\u001b[0m\n\u001b[0m\u001b[1;32m    293\u001b[0m \u001b[0;34m\u001b[0m\u001b[0m\n\u001b[1;32m    294\u001b[0m     \u001b[0;32mreturn\u001b[0m \u001b[0mncalls\u001b[0m\u001b[0;34m,\u001b[0m \u001b[0mfunction_wrapper\u001b[0m\u001b[0;34m\u001b[0m\u001b[0m\n",
      "\u001b[0;32m<ipython-input-171-813dde1b9d68>\u001b[0m in \u001b[0;36mget_fmin_loss\u001b[0;34m(x)\u001b[0m\n\u001b[1;32m     57\u001b[0m \u001b[0;34m\u001b[0m\u001b[0m\n\u001b[1;32m     58\u001b[0m     \u001b[0;32mdef\u001b[0m \u001b[0mget_fmin_loss\u001b[0m\u001b[0;34m(\u001b[0m\u001b[0mx\u001b[0m\u001b[0;34m)\u001b[0m\u001b[0;34m:\u001b[0m\u001b[0;34m\u001b[0m\u001b[0m\n\u001b[0;32m---> 59\u001b[0;31m         \u001b[0mhvp_val\u001b[0m \u001b[0;34m=\u001b[0m \u001b[0mHVP_minibatch_val\u001b[0m\u001b[0;34m(\u001b[0m\u001b[0mmodel\u001b[0m\u001b[0;34m,\u001b[0m \u001b[0my\u001b[0m\u001b[0;34m,\u001b[0m \u001b[0mx\u001b[0m\u001b[0;34m,\u001b[0m \u001b[0mdata_set\u001b[0m\u001b[0;34m)\u001b[0m\u001b[0;34m\u001b[0m\u001b[0m\n\u001b[0m\u001b[1;32m     60\u001b[0m         \u001b[0mhvp_flat\u001b[0m \u001b[0;34m=\u001b[0m \u001b[0mdic2vec\u001b[0m\u001b[0;34m(\u001b[0m\u001b[0mhvp_val\u001b[0m\u001b[0;34m)\u001b[0m\u001b[0;34m\u001b[0m\u001b[0m\n\u001b[1;32m     61\u001b[0m \u001b[0;34m\u001b[0m\u001b[0m\n",
      "\u001b[0;32m<ipython-input-171-813dde1b9d68>\u001b[0m in \u001b[0;36mHVP_minibatch_val\u001b[0;34m(model, y, v, data_set)\u001b[0m\n\u001b[1;32m     22\u001b[0m     \u001b[0mbatch_size\u001b[0m \u001b[0;34m=\u001b[0m \u001b[0;36m1\u001b[0m\u001b[0;34m\u001b[0m\u001b[0m\n\u001b[1;32m     23\u001b[0m \u001b[0;34m\u001b[0m\u001b[0m\n\u001b[0;32m---> 24\u001b[0;31m     \u001b[0mhvp_batch\u001b[0m \u001b[0;34m=\u001b[0m \u001b[0;34m{\u001b[0m\u001b[0mks\u001b[0m\u001b[0;34m:\u001b[0m \u001b[0;34m[\u001b[0m\u001b[0;34m]\u001b[0m \u001b[0;32mfor\u001b[0m \u001b[0mks\u001b[0m \u001b[0;32min\u001b[0m \u001b[0mv\u001b[0m\u001b[0;34m.\u001b[0m\u001b[0mkeys\u001b[0m\u001b[0;34m(\u001b[0m\u001b[0;34m)\u001b[0m\u001b[0;34m}\u001b[0m\u001b[0;34m\u001b[0m\u001b[0m\n\u001b[0m\u001b[1;32m     25\u001b[0m \u001b[0;34m\u001b[0m\u001b[0m\n\u001b[1;32m     26\u001b[0m     \u001b[0mdataloader\u001b[0m \u001b[0;34m=\u001b[0m \u001b[0mDataLoader\u001b[0m\u001b[0;34m(\u001b[0m\u001b[0mdata_set\u001b[0m\u001b[0;34m,\u001b[0m \u001b[0mbatch_size\u001b[0m\u001b[0;34m,\u001b[0m \u001b[0mshuffle\u001b[0m\u001b[0;34m=\u001b[0m\u001b[0;32mTrue\u001b[0m\u001b[0;34m,\u001b[0m \u001b[0mnum_workers\u001b[0m\u001b[0;34m=\u001b[0m\u001b[0;36m6\u001b[0m\u001b[0;34m)\u001b[0m\u001b[0;34m\u001b[0m\u001b[0m\n",
      "\u001b[0;31mAttributeError\u001b[0m: 'numpy.ndarray' object has no attribute 'keys'"
     ]
    }
   ],
   "source": [
    "# toy example for IHVP: 1D example\n",
    "class SimpleNet(object):\n",
    "    def __init__(self):\n",
    "        self.X = C.input_variable(shape=(1,))\n",
    "        self.h = C.layers.Dense(1, activation=None, init=C.uniform(1), bias=False)(self.X)\n",
    "        self.pred = C.layers.Dense(1, activation=None, init=C.uniform(1), bias=False)(self.h)\n",
    "        self.y = C.input_variable(shape=(1,))\n",
    "        #self.loss = C.reduce_l2(self.pred-self.y)\n",
    "        self.loss = -C.squared_error(self.pred, self.y)\n",
    "        \n",
    "class SimpleDataset(object):\n",
    "    def __init__(self, images, labels):\n",
    "        self._images, self._labels = images, labels\n",
    "    \n",
    "    def __getitem__(self, index):\n",
    "        X = self._images[index]\n",
    "        y = self._labels[index]\n",
    "        \n",
    "        return X, y\n",
    "    \n",
    "    def __len__(self):\n",
    "        return len(self._images)\n",
    "    \n",
    "\n",
    "      \n",
    "net = SimpleNet()\n",
    "\n",
    "params = net.pred.parameters\n",
    "\n",
    "x_feed = {net.X:np.array([[2.]],dtype=np.float32), net.y:np.array([[1.]],dtype=np.float32)}\n",
    "v_feed = {p: np.ones_like(p.value) for p in params}\n",
    "\n",
    "print('w1 = \\n', params[0].value, '\\nw2 = \\n', params[1].value, '\\nloss = \\n', net.loss.eval(x_feed))\n",
    "\n",
    "print('hvp', HVP(net.loss, x_feed, v_feed))\n",
    "\n",
    "images = np.asarray([[2.],[2.]], dtype=np.float32)\n",
    "labels = np.asarray([[1.],[1.]], dtype=np.float32)\n",
    "train_set = SimpleDataset(images,labels)\n",
    "\n",
    "print('hvp_batch', HVP_minibatch_val(net, net.loss, v_feed, train_set))\n",
    "\n",
    "print('inverse hvp', get_inverse_hvp_cg(net, net.loss, train_set, v_feed))"
   ]
  },
  {
   "cell_type": "code",
   "execution_count": null,
   "metadata": {
    "collapsed": true
   },
   "outputs": [],
   "source": [
    "def HVP(y, x, v):\n",
    "    # Calculate Hessian vector product \n",
    "    # y: scalar function to be differentiated (function, e.g. cross entropy loss)\n",
    "    # x: feed_dict value for the network (dictionary, e.g. {model.X: image_batch, model.y: label_batch})\n",
    "    # v: vector to be producted (by Hessian) (numeric dictionary, e.g., g(z_test))\n",
    "    ## w: variables to differentiate (numeric, e.g. neural network weight)\n",
    "    \n",
    "    # hyperparameter r\n",
    "    r = 1e-2\n",
    "    \n",
    "    assert type(x)==dict, \"Input of HVP is wrong. this should be dictionary\"\n",
    "     \n",
    "    w = y.parameters\n",
    "    \n",
    "    # gradient for plus\n",
    "    weight_update(w, v, +r)\n",
    "    g_plus = y.grad(x, wrt=params)\n",
    "  \n",
    "    # gradient for minus\n",
    "    weight_update(w, v, -2*r)\n",
    "    g_minus = y.grad(x, wrt=params)\n",
    "    \n",
    "    # weight reconstruction\n",
    "    weight_update(w, v, +r)\n",
    "    \n",
    "    hvp = {ks: (g_plus[ks] - g_minus[ks])/(2*r) for ks in g_plus.keys()}\n",
    "       \n",
    "    return hvp\n",
    "\n",
    "# stochastic estimation\n",
    "def IHVP(model, y, v, data_set, verbose=False): # data, network, etc. as we did in GradCAM\n",
    "    # Calculate inverse hessian vector product over the training set\n",
    "    # model: neural network model (e.g. model)\n",
    "    # y: scalar function output of the neural network (e.g. model.loss)\n",
    "    # v: vector to be producted by inverse hessian (i.e.H^-1 v) (e.g. v_test)\n",
    "    # data_set: training set to be summed in Hessian\n",
    "    \n",
    "    # hyperparameters (hp_d)\n",
    "    recursion_depth = 5\n",
    "    scale = 1\n",
    "    damping = 0.0 # paper ref:0.01\n",
    "    batch_size = 1\n",
    "    num_samples = 1 # the number of samples(:stochatic estimation of IF) to be averaged\n",
    "    \n",
    "    dataloader = DataLoader(data_set, batch_size, shuffle=True, num_workers=6)\n",
    "    \n",
    "    inv_hvps = []\n",
    "    \n",
    "    params = y.parameters\n",
    "    \n",
    "    for i in range(num_samples):\n",
    "        # obtain num_samples inverse hvps\n",
    "        cur_estimate = v\n",
    "        \n",
    "        for depth in range(recursion_depth):\n",
    "            # epoch-scale recursion depth\n",
    "            t1 = time.time()\n",
    "            for img, lb in dataloader:\n",
    "                img = img.numpy(); lb = lb.numpy()\n",
    "                x_feed = {model.X: img, model.y:lb}\n",
    "                hvp = HVP(y,x_feed,cur_estimate)\n",
    "                # cur_estimate = v + (1-damping)*cur_estimate + 1/scale*(hvp/batch_size)\n",
    "                cur_estimate = {ks: v[ks] + (1-damping)*cur_estimate[ks] - (1/scale)*hvp[ks]/batch_size for ks in cur_estimate.keys()}\n",
    "                #break\n",
    "                if verbose:\n",
    "                    print('#w: \\n', list(map(lambda x: x.value, params)), '\\n#hvp: \\n', hvp, '\\n#ihvp: \\n', cur_estimate)\n",
    "            print(\"Recursion depth: {}, norm: {}, time: {} \\n\".format(depth, np.sqrt(grad_inner_product(cur_estimate,cur_estimate)),time.time()-t1))\n",
    "        \n",
    "        inv_hvp = {ks: (1/scale)*cur_estimate[ks] for ks in cur_estimate.keys()}\n",
    "        inv_hvps.append(inv_hvp)\n",
    "    \n",
    "    return inv_hvps"
   ]
  },
  {
   "cell_type": "code",
   "execution_count": 13,
   "metadata": {
    "collapsed": false
   },
   "outputs": [
    {
     "name": "stdout",
     "output_type": "stream",
     "text": [
      "{Parameter('W', [], [1 x 1]): array([[-0.68041325]], dtype=float32), Parameter('W', [], [1 x 1]): array([[-0.7322467]], dtype=float32)} {Parameter('W', [], [1 x 1]): array([[-1.36082649]], dtype=float32), Parameter('W', [], [1 x 1]): array([[-1.46449339]], dtype=float32)}\n"
     ]
    },
    {
     "name": "stderr",
     "output_type": "stream",
     "text": [
      "/home/hwehee/anaconda3/envs/cntk/lib/python3.5/site-packages/cntk/core.py:361: UserWarning: your data is of type \"float64\", but your input variable (uid \"Input3\") expects \"<class 'numpy.float32'>\". Please convert your data beforehand to speed up training.\n",
      "  (sample.dtype, var.uid, str(var.dtype)))\n"
     ]
    }
   ],
   "source": [
    "gd1 = y.grad({x:np.array([[1.]])}, wrt=y.parameters)\n",
    "gd2 = y.grad({x:np.array([[1.],[1.]])}, wrt=y.parameters)\n",
    "print(gd1,gd2)"
   ]
  },
  {
   "cell_type": "markdown",
   "metadata": {},
   "source": [
    "remark) gradient with minibatch whose size is greater than 1\n",
    "여러 sample에 대해서 gradient을 구하는 경우 average 대신 summation된 값을 내보냄.\n",
    "따라서 hvp를 sample 수에 대해서 normalize해줘야 함."
   ]
  }
 ],
 "metadata": {
  "anaconda-cloud": {},
  "kernelspec": {
   "display_name": "Python [conda env:cntk]",
   "language": "python",
   "name": "conda-env-cntk-py"
  },
  "language_info": {
   "codemirror_mode": {
    "name": "ipython",
    "version": 3
   },
   "file_extension": ".py",
   "mimetype": "text/x-python",
   "name": "python",
   "nbconvert_exporter": "python",
   "pygments_lexer": "ipython3",
   "version": "3.5.4"
  }
 },
 "nbformat": 4,
 "nbformat_minor": 1
}
