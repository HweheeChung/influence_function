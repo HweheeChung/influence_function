{
 "cells": [
  {
   "cell_type": "markdown",
   "metadata": {},
   "source": [
    "연구자: 정회희 (2018/04/20)\n",
    "\n",
    "이 실험은 *Understanding Black-box Predictions via Influence Functions*에서 사용한 Hessian vector product를 tensorflow를 사용해서 구현하고, complexity를 확인하기위해 진행된 실험이다.\n"
   ]
  },
  {
   "cell_type": "code",
   "execution_count": 1,
   "metadata": {},
   "outputs": [],
   "source": [
    "# The objective of this code is to check whether HVP takes O(p) or O(p^2) compuational complexity\n",
    "# where x \\in R^p\n",
    "\n",
    "import tensorflow as tf\n",
    "import time\n",
    "import matplotlib.pyplot as plt\n",
    "import numpy as np\n",
    "from ipdb import set_trace"
   ]
  },
  {
   "cell_type": "markdown",
   "metadata": {},
   "source": [
    "Implementation Background\n",
    "-----------------------------\n",
    "\\begin{eqnarray*}\n",
    "\\textbf{g} &=& gradient(y,x)=\\left(\\frac{\\partial y}{\\partial x_1},\\frac{\\partial y}{\\partial x_2},\\ldots,\\frac{\\partial y}{\\partial x_N}\\right)\\\\\n",
    "\\textbf{h} &=& gradient(\\textbf{g},x,grad\\_ys=v,stop\\_gradient=v)\\\\\n",
    "&=&\\left(\\frac{\\partial z}{\\partial x_1}\\right) \n",
    "\\text{ where } \n",
    "z = \\sum_{i=1}^{N}{\\frac{\\partial y}{\\partial x_i}v_i}\\\\\n",
    "&=&\\left(\n",
    "\\sum_{i=1}^{N}{\\frac{\\partial^2 y}{\\partial x_1 \\partial x_i}v_i},\n",
    "\\sum_{i=1}^{N}{\\frac{\\partial^2 y}{\\partial x_2 \\partial x_i}v_i}\n",
    "\\ldots, \n",
    "\\sum_{i=1}^{N}{\\frac{\\partial^2 y}{\\partial x_N \\partial x_i}v_i}\n",
    "\\right)\\\\\n",
    "&=&\\textbf{H}v\n",
    "\\end{eqnarray*}"
   ]
  },
  {
   "cell_type": "code",
   "execution_count": 2,
   "metadata": {},
   "outputs": [],
   "source": [
    "def hvp(ys, xs, v):\n",
    "  # hessian vector product using tensorflow\n",
    "  grads = tf.gradients(ys, xs)\n",
    "  \n",
    "  return tf.gradients(grads, xs, grad_ys=v, stop_gradients=v)"
   ]
  },
  {
   "cell_type": "code",
   "execution_count": 3,
   "metadata": {},
   "outputs": [],
   "source": [
    "iteration = 199\n",
    "bias = 1\n",
    "\n",
    "step = 1e7/iteration\n",
    "\n",
    "operators = []\n",
    "for i in range(iteration):\n",
    "  x = tf.constant(1., dtype=tf.float32, shape=(i*step+bias,1))\n",
    "  y = tf.matmul(x,x,transpose_a=True)\n",
    "  v = tf.constant(1., dtype=tf.float32, shape=(i*step+bias,1))\n",
    "  h = hvp(y,x,v)\n",
    "  operators.append(h)\n",
    "  # time may increase since the number of operation increases"
   ]
  },
  {
   "cell_type": "code",
   "execution_count": 4,
   "metadata": {},
   "outputs": [],
   "source": [
    "tf.InteractiveSession()\n",
    "\n",
    "times = []\n",
    "for i in range(iteration):\n",
    "  tic = time.time()\n",
    "  operators[i][0].eval()\n",
    "  toc = time.time() - tic\n",
    "  times.append(toc)\n",
    "\n",
    "    # first term is delayed by graph construction (may be?)\n",
    "# therefore, this may be meaningless\n",
    "times = times[1:] "
   ]
  },
  {
   "cell_type": "code",
   "execution_count": 5,
   "metadata": {},
   "outputs": [
    {
     "data": {
      "image/png": "[encoded data removed]",
      "text/plain": [
       "<Figure size 432x288 with 1 Axes>"
      ]
     },
     "metadata": {},
     "output_type": "display_data"
    }
   ],
   "source": [
    "# check times\n",
    "mean = np.mean(times)\n",
    "x_axis = np.arange(iteration)*step+bias\n",
    "x_axis = x_axis[1:]\n",
    "plt.plot(x_axis,times)\n",
    "plt.xlabel('N_parameters')\n",
    "plt.ylabel('time elapsed')\n",
    "plt.savefig('./images/times_bias_{}_mean_{:5f}.png'.format(bias,mean))\n",
    "plt.show()"
   ]
  },
  {
   "cell_type": "markdown",
   "metadata": {},
   "source": [
    "Conclusion\n",
    "=====\n",
    "\n",
    "Hessian vector product를 사용하여 hessian matrix와 vector의 곱을 얻을 수 있다.\n",
    "이는 tensorflow의 tf.gradients를 사용하면 쉽게 얻을 수 있다.\n",
    "\n",
    "하지만 tensorflow의 tf.gradients의 방식으로 구하는 경우, complexity가 ${O(n)}$라는 보장이 없음.\n",
    "이를 확인하기 위해서 위 code를 실행함.\n",
    "\n",
    "Settings\n",
    "--------\n",
    "\\begin{eqnarray*}\n",
    "y = f(x)\n",
    "\\text{ where } x \\in \\mathbb{R}^p, y \\in \\mathbb{R}\n",
    "\\end{eqnarray*}\n",
    "\n",
    "Results\n",
    "--------\n",
    "밑의 실험 결과 figure를 참고.\n",
    "x축은 함수의 dimension p 값, y축은 Hessian vector product를 evaluation하는데 드는 값.\n",
    "x dimension p는 ${1}$에서부터 ${10^7}$까지 변화 시킴.\n",
    "중간에 한번 튀는 점은 (아마도) x의 dimension이 지나치게 커지면서 이에 따라 graph 크기도 커져 추가적인 메모리 할당을 하면서 발생한 시간이라고 생각함.\n",
    "참고로 이 튀는 점은 해당 실험을 여러 번 반복하더라도 변함없이 발생함.\n",
    "그 외 지점에서는 linear하게 증가한다는 것을 확인할 수 있음.\n",
    "i.e. ${HVP \\sim O(p)}$\n",
    "\n",
    "p가 지나치게 커지게 되면 (아마도) 추가적인 memory를 계속해서 받아야 할거고, 추가적인 memory를 받을 수 없을 경우에는 잘라서 진행할 것. 그 경우 ${O(p)}$가 안 될수도 있음. (e.g. 0.3 근처나 0.82 근처에 step이 생긴 것처럼)\n",
    "하지만 실제 neural network의 weight는 10M 정도 되기 때문에 이에 compatible한 크기의 neural network라면 p에 linear할 것."
   ]
  }
 ],
 "metadata": {
  "kernelspec": {
   "display_name": "Python 3",
   "language": "python",
   "name": "python3"
  },
  "language_info": {
   "codemirror_mode": {
    "name": "ipython",
    "version": 3
   },
   "file_extension": ".py",
   "mimetype": "text/x-python",
   "name": "python",
   "nbconvert_exporter": "python",
   "pygments_lexer": "ipython3",
   "version": "3.5.4"
  }
 },
 "nbformat": 4,
 "nbformat_minor": 2
}
