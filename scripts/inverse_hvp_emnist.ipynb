{
 "cells": [
  {
   "cell_type": "markdown",
   "metadata": {},
   "source": [
    "# EMNIST DATASET\n",
    "\n",
    "load network\n",
    "check IF\n",
    "compare btw TF code\n",
    "check retrain & IF\n",
    "sorting & relabeling"
   ]
  },
  {
   "cell_type": "markdown",
   "metadata": {},
   "source": [
    "## IHVP\n",
    "\n",
    "Algorithms for Inverse of Hessian Vector Product (CG & SE)"
   ]
  },
  {
   "cell_type": "code",
   "execution_count": 1,
   "metadata": {
    "collapsed": true
   },
   "outputs": [],
   "source": [
    "import cntk as C\n",
    "from cntk.device import try_set_default_device, gpu\n",
    "try_set_default_device(gpu(0))\n",
    "\n",
    "import numpy as np\n",
    "import time\n",
    "\n",
    "from torch.utils.data import DataLoader"
   ]
  },
  {
   "cell_type": "code",
   "execution_count": 2,
   "metadata": {
    "collapsed": true
   },
   "outputs": [],
   "source": [
    "# Hessian Vector Product\n",
    "\n",
    "def grad_inner_product(grad1, grad2):\n",
    "    # inner product for dictionary-format gradients (output scalar value)\n",
    "    \n",
    "    val = 0\n",
    "    \n",
    "    for ks in grad1.keys():\n",
    "        val += np.sum(np.multiply(grad1[ks],grad2[ks]))\n",
    "        \n",
    "    return val\n",
    "\n",
    "def weight_update(w, v, r):\n",
    "    # w: weights of neural network (tuple)\n",
    "    # v: value for delta w (dictionary, e.g., gradient value)\n",
    "    # r: hyperparameter for a gradient (scalar)\n",
    "\n",
    "    for p in w:\n",
    "        p.value += r * v[p]\n",
    "\n",
    "def HVP(y, x, v):\n",
    "    # Calculate Hessian vector product \n",
    "    # y: scalar function to be differentiated (function, e.g. cross entropy loss)\n",
    "    # x: feed_dict value for the network (dictionary, e.g. {model.X: image_batch, model.y: label_batch})\n",
    "    # v: vector to be producted (by Hessian) (numeric dictionary, e.g., g(z_test))\n",
    "    ## w: variables to differentiate (numeric, e.g. neural network weight)\n",
    "    \n",
    "    # hyperparameter r\n",
    "    r = 1e-2\n",
    "    \n",
    "    assert type(x)==dict, \"Input of HVP is wrong. this should be dictionary\"\n",
    "     \n",
    "    w = y.parameters\n",
    "    \n",
    "    # gradient for plus\n",
    "    weight_update(w, v, +r)\n",
    "    g_plus = y.grad(x, wrt=params)\n",
    "  \n",
    "    # gradient for minus\n",
    "    weight_update(w, v, -2*r)\n",
    "    g_minus = y.grad(x, wrt=params)\n",
    "    \n",
    "    # weight reconstruction\n",
    "    weight_update(w, v, +r)\n",
    "    \n",
    "    hvp = {ks: (g_plus[ks] - g_minus[ks])/(2*r) for ks in g_plus.keys()}\n",
    "       \n",
    "    return hvp\n"
   ]
  },
  {
   "cell_type": "code",
   "execution_count": 38,
   "metadata": {
    "collapsed": true
   },
   "outputs": [],
   "source": [
    "def HVP_minibatch_val(model, y, v, dataloader):\n",
    "    # Calculate Hessian vector product w.r.t whole dataset\n",
    "    # model: neural network model (e.g. model)\n",
    "    # y: scalar function output of the neural network (e.g. model.loss)\n",
    "    # v: vector to be producted by inverse hessian (i.e.H^-1 v) (numeric dictionary, e.g. v_test)\n",
    "    # dataloader: training set dataloader\n",
    "    \n",
    "    # hyperparameters\n",
    "    damping = 0.0 # convexity term; paper ref:0.01\n",
    "    \n",
    "    hvp_batch = {ks: [] for ks in v.keys()}\n",
    "    \n",
    "    for img, lb in dataloader:\n",
    "        img = img.numpy(); lb = lb.numpy()\n",
    "        x_feed = {model.X: img, model.y:lb}\n",
    "        hvp = HVP(y,x_feed,v)\n",
    "        # add hvp value\n",
    "        [hvp_batch[ks].append(hvp[ks]/img.shape[0]) for ks in hvp.keys()]\n",
    "        \n",
    "    hvp_mean = {ks: np.mean(hvp_batch[ks], axis=0) + damping*v[ks] for ks in hvp_batch.keys()}\n",
    "    \n",
    "    return hvp_mean\n",
    "\n",
    "# x: solution vector for conjugate gradient, whose shape is same as flattened gradient. NOT feed dict value\n",
    "\n",
    "def dic2vec(dic):\n",
    "    # convert a dictionary with matrix values to a 1D vector\n",
    "    # e.g. gradient of network -> 1D vector\n",
    "    vec = np.concatenate([val.reshape(-1) for val in dic.values()])\n",
    "    \n",
    "    return vec\n",
    "\n",
    "def vec2dic(vec, fmt):\n",
    "    # convert a 1D vector to a dictionary of format fmt\n",
    "    # fmt = {key: val.shape for (key,val) in dict}\n",
    "    fmt_idx = [np.prod(val) for val in fmt.values()]\n",
    "    #lambda ls, idx: [ls[sum(idx[:i]):sum(idx[:i+1])] for i in range(len(idx))]\n",
    "    vec_split = [vec[sum(fmt_idx[:i]):sum(fmt_idx[:i+1])] for i in range(len(fmt_idx))]\n",
    "    dic = {key: vec_split[i].reshape(shape) for (i,(key,shape)) in enumerate(fmt.items())}\n",
    "\n",
    "    return dic\n",
    "\n",
    "\n",
    "def get_fmin_loss_fn(model, y, v, dataloader):\n",
    "    \n",
    "    def get_fmin_loss(x):\n",
    "        x_dic = vec2dic(x, {key: val.shape for (key, val) in v.items()})\n",
    "        hvp_val = HVP_minibatch_val(model, y, x_dic, dataloader)\n",
    "        \n",
    "        return 0.5 * grad_inner_product(hvp_val, x_dic) - grad_inner_product(v, x_dic)\n",
    "    \n",
    "    return get_fmin_loss\n",
    "\n",
    "def get_fmin_grad_fn(model, y, v, dataloader):\n",
    "    \n",
    "    def get_fmin_grad(x):\n",
    "        # x: 1D vector\n",
    "        x_dic = vec2dic(x, {key: val.shape for (key, val) in v.items()})\n",
    "        hvp_val = HVP_minibatch_val(model, y, x_dic, dataloader)\n",
    "        hvp_flat = dic2vec(hvp_val)\n",
    "        v_flat = dic2vec(v)\n",
    "        \n",
    "        return hvp_flat - v_flat\n",
    "    \n",
    "    return get_fmin_grad\n",
    "\n",
    "def get_fmin_hvp_fn(model, y, v, dataloader):\n",
    "\n",
    "    def get_fmin_hvp(x, p):\n",
    "        p_dic = vec2dic(p, {key: val.shape for (key, val) in v.items()})\n",
    "        hvp_val = HVP_minibatch_val(model, y, p_dic, dataloader)\n",
    "        hvp_flat = dic2vec(hvp_val)\n",
    "\n",
    "        return hvp_flat\n",
    "    \n",
    "    return get_fmin_hvp\n",
    "\n",
    "def get_inverse_hvp_cg(model, y, v, data_set):\n",
    "    # return x, which is the solution of QP, whose value is H^-1 v\n",
    "\n",
    "    # hyperparameters\n",
    "    batch_size = 50\n",
    "    \n",
    "    dataloader = DataLoader(data_set, batch_size, shuffle=True, num_workers=6)\n",
    "    \n",
    "    fmin_loss_fn = get_fmin_loss_fn(model, y, v, dataloader)\n",
    "    fmin_grad_fn = get_fmin_grad_fn(model, y, v, dataloader)\n",
    "    fmin_hvp_fn = get_fmin_hvp_fn(model, y, v, dataloader)\n",
    "    \n",
    "    fmin_results = fmin_ncg(\\\n",
    "            f = fmin_loss_fn, x0 = dic2vec(v), fprime = fmin_grad_fn,\\\n",
    "            fhess_p = fmin_hvp_fn, avextol = 1e-8, maxiter = 1e2)\n",
    "    \n",
    "    #return fmin_results\n",
    "    return vec2dic(fmin_results, {key: val.shape for (key, val) in v.items()})"
   ]
  },
  {
   "cell_type": "code",
   "execution_count": 35,
   "metadata": {
    "collapsed": true
   },
   "outputs": [],
   "source": [
    "# stochastic estimation\n",
    "def get_inverse_hvp_se(model, y, v, data_set, **kwargs):\n",
    "    # Calculate inverse hessian vector product over the training set\n",
    "    # model: neural network model (e.g. model)\n",
    "    # y: scalar function output of the neural network (e.g. model.loss)\n",
    "    # v: vector to be producted by inverse hessian (i.e.H^-1 v) (e.g. v_test)\n",
    "    # data_set: training set to be summed in Hessian\n",
    "    # kwargs: hyperparameters for stochastic estimation\n",
    "    recursion_depth = kwargs.pop('recursion_depth', 5) # epoch\n",
    "    scale = kwargs.pop('scale', 1e1) # similar to learning rate\n",
    "    damping = kwargs.pop('damping', 0.0) # paper reference: 0.01\n",
    "    batch_size = kwargs.pop('batch_size', 1)\n",
    "    num_samples = kwargs.pop('num_samples', 1) # the number of samples(:stochatic estimation of IF) to be averaged\n",
    "    verbose = kwargs.pop('verbose', False)\n",
    "    \n",
    "    dataloader = DataLoader(data_set, batch_size, shuffle=True, num_workers=6)\n",
    "    \n",
    "    inv_hvps = []\n",
    "    \n",
    "    params = y.parameters\n",
    "    \n",
    "    for i in range(num_samples):\n",
    "        # obtain num_samples inverse hvps\n",
    "        cur_estimate = v\n",
    "        \n",
    "        for depth in range(recursion_depth):\n",
    "            # epoch-scale recursion depth\n",
    "            t1 = time.time()\n",
    "            for img, lb in dataloader:\n",
    "                img = img.numpy(); lb = lb.numpy()\n",
    "                x_feed = {model.X: img, model.y:lb}\n",
    "                hvp = HVP(y,x_feed,cur_estimate)\n",
    "                # cur_estimate = v + (1-damping)*cur_estimate + 1/scale*(hvp/batch_size)\n",
    "                cur_estimate = {ks: v[ks] + (1-damping/scale)*cur_estimate[ks] - (1/scale)*hvp[ks]/batch_size for ks in cur_estimate.keys()}\n",
    "            if verbose:\n",
    "                print('#w: \\n', list(map(lambda x: x.value, params)), '\\n#hvp: \\n', hvp, '\\n#ihvp: \\n', cur_estimate)\n",
    "                print(\"Recursion depth: {}, norm: {}, time: {} \\n\".format(depth, np.sqrt(grad_inner_product(cur_estimate,cur_estimate)),time.time()-t1))\n",
    "        \n",
    "        inv_hvp = {ks: (1/scale)*cur_estimate[ks] for ks in cur_estimate.keys()}\n",
    "        inv_hvps.append(inv_hvp)\n",
    "    \n",
    "    inv_hvp_val = {ks: np.mean([inv_hvps[i][ks] for i in range(num_samples)], axis=0) for ks in inv_hvps[0].keys()}\n",
    "    \n",
    "    return inv_hvp_val"
   ]
  },
  {
   "cell_type": "code",
   "execution_count": 9,
   "metadata": {
    "collapsed": false
   },
   "outputs": [
    {
     "name": "stdout",
     "output_type": "stream",
     "text": [
      "w1 = \n",
      " [[ 0.0370382]] \n",
      "w2 = \n",
      " [[-0.03171763]] \n",
      "loss = \n",
      " [ 1.00470448]\n",
      "w1 = \n",
      " [[ 1.]] \n",
      "w2 = \n",
      " [[ 0.33333334]] \n",
      "loss = \n",
      " [ 0.1111111]\n",
      "hvp {Parameter('W', [], [1 x 1]): array([[ 2.22302079]], dtype=float32), Parameter('W', [], [1 x 1]): array([[ 9.33413506]], dtype=float32)}\n",
      "Warning: Desired error not necessarily achieved due to precision loss.\n",
      "         Current function value: -0.583325\n",
      "         Iterations: 5\n",
      "         Function evaluations: 26\n",
      "         Gradient evaluations: 19\n",
      "         Hessian evaluations: 12\n",
      "inverse hvp [ 1.24996293 -0.08331362]\n",
      "inverse hvp {Parameter('W', [], [1 x 1]): array([[ 1.05965364]], dtype=float32), Parameter('W', [], [1 x 1]): array([[-0.04848924]], dtype=float32)}\n",
      "inverse hvp {Parameter('W', [], [1 x 1]): array([[ 1.08393216]], dtype=float32), Parameter('W', [], [1 x 1]): array([[-0.05433288]], dtype=float32)}\n"
     ]
    }
   ],
   "source": [
    "# toy example for inverse HVP (CG and SE)\n",
    "\n",
    "class SimpleNet(object):\n",
    "    def __init__(self):\n",
    "        self.X = C.input_variable(shape=(1,))\n",
    "        self.h = C.layers.Dense(1, activation=None, init=C.uniform(1), bias=False)(self.X)\n",
    "        self.pred = C.layers.Dense(1, activation=None, init=C.uniform(1), bias=False)(self.h)\n",
    "        self.y = C.input_variable(shape=(1,))\n",
    "        #self.loss = C.reduce_l2(self.pred-self.y)\n",
    "        self.loss = C.squared_error(self.pred, self.y)\n",
    "        \n",
    "class SimpleDataset(object):\n",
    "    def __init__(self, images, labels):\n",
    "        self._images, self._labels = images, labels\n",
    "    \n",
    "    def __getitem__(self, index):\n",
    "        X = self._images[index]\n",
    "        y = self._labels[index]\n",
    "        \n",
    "        return X, y\n",
    "    \n",
    "    def __len__(self):\n",
    "        return len(self._images)\n",
    "\n",
    "\n",
    "net = SimpleNet()\n",
    "\n",
    "params = net.pred.parameters\n",
    "\n",
    "x_feed = {net.X:np.array([[2.]],dtype=np.float32), net.y:np.array([[1.]],dtype=np.float32)}\n",
    "v_feed = {p: np.ones_like(p.value) for p in params}\n",
    "\n",
    "print('w1 = \\n', params[0].value, '\\nw2 = \\n', params[1].value, '\\nloss = \\n', net.loss.eval(x_feed))\n",
    "params[0].value = np.asarray([[1.]])\n",
    "params[1].value = np.asarray([[1./3.]])\n",
    "print('w1 = \\n', params[0].value, '\\nw2 = \\n', params[1].value, '\\nloss = \\n', net.loss.eval(x_feed))\n",
    "\n",
    "print('hvp', HVP(net.loss, x_feed, v_feed))\n",
    "\n",
    "images = np.asarray([[2.],[2.]], dtype=np.float32)\n",
    "labels = np.asarray([[1.],[1.]], dtype=np.float32)\n",
    "#images = np.asarray([[2.]], dtype=np.float32)\n",
    "#labels = np.asarray([[1.]], dtype=np.float32)\n",
    "\n",
    "train_set = SimpleDataset(images,labels)\n",
    "\n",
    "print('inverse hvp', get_inverse_hvp_cg(net, net.loss, v_feed, train_set))\n",
    "print('inverse hvp', get_inverse_hvp_se(net, net.loss, v_feed, train_set,**{'scale':20, 'damping':0.1}))\n",
    "print('inverse hvp', get_inverse_hvp_se(net, net.loss, v_feed, train_set,**{'scale':10, 'damping':0.1}))"
   ]
  },
  {
   "cell_type": "markdown",
   "metadata": {},
   "source": [
    "## EMNIST dataset"
   ]
  },
  {
   "cell_type": "code",
   "execution_count": 22,
   "metadata": {
    "collapsed": true
   },
   "outputs": [],
   "source": [
    "import os, sys\n",
    "sys.path.append('../refer/boot_strapping')\n",
    "import json\n",
    "\n",
    "from datasets import dataset28 as dataset\n",
    "\n",
    "import matplotlib.pyplot as plt\n",
    "from matplotlib.pyplot import imshow\n",
    "from torch.utils.data import DataLoader"
   ]
  },
  {
   "cell_type": "code",
   "execution_count": 23,
   "metadata": {
    "collapsed": true
   },
   "outputs": [],
   "source": [
    "def show_image_from_data(img):\n",
    "    # show image from dataset\n",
    "    # img: (C,W,H) numpy array\n",
    "    img_show = np.squeeze(np.transpose(img, [1,2,0]))\n",
    "    imshow(img_show)\n",
    "    plt.show()"
   ]
  },
  {
   "cell_type": "code",
   "execution_count": 24,
   "metadata": {
    "collapsed": false
   },
   "outputs": [
    {
     "name": "stdout",
     "output_type": "stream",
     "text": [
      "1000 <class 'datasets.dataset28.LazyDataset'>\n",
      "1000\n"
     ]
    }
   ],
   "source": [
    "# emnist dataset\n",
    "root_dir = '/Data/emnist/balanced/original'\n",
    "\n",
    "# sample sized\n",
    "trainval_list, anno_dict = dataset.read_data_subset(root_dir, mode='train1', sample_size=1000)\n",
    "test_list, _ = dataset.read_data_subset(root_dir, mode='validation1', sample_size=1000)\n",
    "\n",
    "with open('/Data/emnist/balanced/original/annotation/annotation1_wp_0.3.json','r') as fid:\n",
    "    noisy_anno_dict = json.load(fid)\n",
    "\n",
    "train_set = dataset.LazyDataset(root_dir, trainval_list, noisy_anno_dict)\n",
    "test_set = dataset.LazyDataset(root_dir, test_list, anno_dict)\n",
    "\n",
    "# emnist dataset: SANITY CHECK\n",
    "print(len(test_set), type(test_set))\n",
    "print(len(test_list))"
   ]
  },
  {
   "cell_type": "code",
   "execution_count": 25,
   "metadata": {
    "collapsed": false
   },
   "outputs": [
    {
     "name": "stdout",
     "output_type": "stream",
     "text": [
      "conv1.shape (64, 28, 28)\n",
      "pool1.shape (64, 14, 14)\n",
      "conv2.shape (128, 14, 14)\n",
      "pool2.shape (128, 7, 7)\n",
      "conv3.shape (256, 7, 7)\n",
      "pool3.shape (256, 4, 4)\n",
      "Test error rate: 0.11570581896551724\n",
      "Total tack time(sec): 9.851991653442383\n",
      "Tact time per image(sec): 0.009851991653442383\n",
      "Confusion matrix: \n",
      "[[18  0  0 ...,  0  0  0]\n",
      " [ 0 18  0 ...,  0  0  0]\n",
      " [ 0  0 15 ...,  0  0  0]\n",
      " ..., \n",
      " [ 0  0  0 ..., 17  0  0]\n",
      " [ 0  0  0 ...,  0 18  0]\n",
      " [ 0  1  0 ...,  0  0 18]]\n"
     ]
    }
   ],
   "source": [
    "# emnist network\n",
    "from models.nn import VGG as ConvNet\n",
    "\n",
    "hp_d = dict() # hyperparameters for a network\n",
    "net = ConvNet(train_set.__getitem__(0)[0].shape, len(anno_dict['classes']), **hp_d)\n",
    "net.logits.restore('/Data/checkpts/noisy/model_fold_1_trainval_ratio_1.0.dnn')\n",
    "\n",
    "# emnist network: SANITY CHECK\n",
    "start_time = time.time()\n",
    "ys, y_preds, test_score, confusion_matrix = net.predict(test_set, **hp_d)\n",
    "total_time = time.time() - start_time\n",
    "\n",
    "print('Test error rate: {}'.format(test_score))\n",
    "print('Total tack time(sec): {}'.format(total_time))\n",
    "print('Tact time per image(sec): {}'.format(total_time / len(test_list)))\n",
    "print('Confusion matrix: \\n{}'.format(confusion_matrix))"
   ]
  },
  {
   "cell_type": "code",
   "execution_count": 26,
   "metadata": {
    "collapsed": false
   },
   "outputs": [
    {
     "data": {
      "image/png": "[encoded data removed]",
      "text/plain": [
       "<Figure size 432x288 with 1 Axes>"
      ]
     },
     "metadata": {},
     "output_type": "display_data"
    },
    {
     "name": "stdout",
     "output_type": "stream",
     "text": [
      "ground truth label:  L\n",
      "network prediction:  I\n"
     ]
    },
    {
     "data": {
      "image/png": "[encoded data removed]",
      "text/plain": [
       "<Figure size 432x288 with 1 Axes>"
      ]
     },
     "metadata": {},
     "output_type": "display_data"
    },
    {
     "name": "stdout",
     "output_type": "stream",
     "text": [
      "25.3030843472\n",
      "3505.32309139\n"
     ]
    }
   ],
   "source": [
    "# hessian vector product w.r.t. test image\n",
    "\n",
    "params = net.logits.parameters\n",
    "\n",
    "img_test, lb_test = test_set.__getitem__(1)\n",
    "show_image_from_data(img_test)\n",
    "\n",
    "print('ground truth label: ', anno_dict['classes'][str(np.argmax(lb_test))])\n",
    "print('network prediction: ', anno_dict['classes'][str(np.argmax(net.logits.eval({net.X:img_test})))])\n",
    "\n",
    "v_test = net.loss.grad({net.X:img_test, net.y:lb_test}, wrt=params)\n",
    "\n",
    "# HVP(y,x,v)\n",
    "img, lb = train_set.__getitem__(1)\n",
    "img.shape\n",
    "show_image_from_data(img)\n",
    "\n",
    "v_train = net.loss.grad({net.X:img, net.y:lb}, wrt=params)\n",
    "\n",
    "hvp = HVP(net.loss, {net.X:img, net.y:lb}, v_test)\n",
    "\n",
    "print(grad_inner_product(hvp, v_test))\n",
    "print(grad_inner_product(v_train, v_test))"
   ]
  },
  {
   "cell_type": "code",
   "execution_count": null,
   "metadata": {
    "collapsed": false
   },
   "outputs": [
    {
     "data": {
      "image/png": "[encoded data removed]",
      "text/plain": [
       "<Figure size 432x288 with 1 Axes>"
      ]
     },
     "metadata": {},
     "output_type": "display_data"
    },
    {
     "name": "stdout",
     "output_type": "stream",
     "text": [
      "(Parameter('W', [], [2048 x 47]), Parameter('b', [], [47]), Parameter('W', [], [256 x 4 x 4 x 2048]), Parameter('b', [], [2048]), Parameter('W', [], [256 x 128 x 3 x 3]), Parameter('b', [], [256 x 1 x 1]), Parameter('W', [], [128 x 64 x 3 x 3]), Parameter('b', [], [128 x 1 x 1]), Parameter('W', [], [64 x 1 x 3 x 3]), Parameter('b', [], [64 x 1 x 1]))\n",
      "(Parameter('W', [], [2048 x 47]), Parameter('b', [], [47]), Parameter('W', [], [256 x 4 x 4 x 2048]), Parameter('b', [], [2048]), Parameter('W', [], [256 x 128 x 3 x 3]), Parameter('b', [], [256 x 1 x 1]), Parameter('W', [], [128 x 64 x 3 x 3]), Parameter('b', [], [128 x 1 x 1]), Parameter('W', [], [64 x 1 x 3 x 3]), Parameter('b', [], [64 x 1 x 1]))\n"
     ]
    },
    {
     "name": "stderr",
     "output_type": "stream",
     "text": [
      "/home/hwehee/anaconda3/envs/cntk/lib/python3.5/site-packages/ipykernel/__main__.py:46: RuntimeWarning: invalid value encountered in subtract\n"
     ]
    }
   ],
   "source": [
    "img, lb = train_set.__getitem__(1)\n",
    "show_image_from_data(img)\n",
    "\n",
    "v_train = net.loss.grad({net.X:img, net.y:lb}, wrt=params)\n",
    "\n",
    "net.logits.restore('/Data/checkpts/noisy/model_fold_1_trainval_ratio_1.0.dnn')\n",
    "net.loss.eval({net.X: img, net.y:lb})\n",
    "\n",
    "print(net.loss.parameters)\n",
    "print(net.logits.parameters)\n",
    "\n",
    "t1 = time.time()\n",
    "ihvp_cg = get_inverse_hvp_cg(net, net.loss, v_test, train_set)\n",
    "IF_cg = grad_inner_product(ihvp_cg, v_train)/1000 # loss difference = -1/num_sample * influence function\n",
    "print('it takes {} sec, and its value {}'.format(time.time()-t1, IF_cg))\n",
    "\n",
    "#t1 = time.time()\n",
    "#ihvp_se = get_inverse_hvp_se(net, net.loss, v_test, train_set,**{'scale':20, 'damping':0.1, 'verbose':True})\n",
    "#IF_se = grad_inner_product(ihvp_se, v_train)/1000 # loss difference = -1/num_sample * influence function\n",
    "#print('it takes {} sec'.format(time.time()-t1))\n",
    "\n",
    "#print(IF_cg, IF_se)"
   ]
  },
  {
   "cell_type": "code",
   "execution_count": null,
   "metadata": {
    "collapsed": true
   },
   "outputs": [],
   "source": [
    "# sorting with IF\n",
    "\n",
    "# 1: v_test^T * v_train\n",
    "# 2: v_cg^T * v_train\n",
    "# 3: v_se^T * v_train\n",
    "\n",
    "# visualization w.r.t. top 5 sampling"
   ]
  }
 ],
 "metadata": {
  "anaconda-cloud": {},
  "kernelspec": {
   "display_name": "Python [conda env:cntk]",
   "language": "python",
   "name": "conda-env-cntk-py"
  },
  "language_info": {
   "codemirror_mode": {
    "name": "ipython",
    "version": 3
   },
   "file_extension": ".py",
   "mimetype": "text/x-python",
   "name": "python",
   "nbconvert_exporter": "python",
   "pygments_lexer": "ipython3",
   "version": "3.5.4"
  }
 },
 "nbformat": 4,
 "nbformat_minor": 1
}
