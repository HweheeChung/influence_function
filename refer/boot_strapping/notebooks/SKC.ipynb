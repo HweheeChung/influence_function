{
 "cells": [
  {
   "cell_type": "markdown",
   "metadata": {},
   "source": [
    "# SKC\n",
    "\n",
    "분석자: 정회희 (Last update: 2018/05/09)\n",
    "\n",
    "## Problem definition, evaluation 및 데이터셋 관련 기본 정보\n",
    "\n",
    "- 데이터셋 저장 경로: //211.106.187.119/Data/052_SKC/20180322/original\n",
    "- 산업 도메인: 필름\n",
    "- 문제 유형: Classification\n",
    "- 클래스 유형: 11 Classes\n",
    "    - 탄화물 : 2242\n",
    "    - M line : 5736\n",
    "    - 미연신 : 616\n",
    "    - 종Scratch : 5094\n",
    "    - 기포 : 2487\n",
    "    - 조액 : 17875\n",
    "    - 오일오염 : 1266\n",
    "    - 백분 : 9426\n",
    "    - 기타결함 : 38433\n",
    "    - 흑색결함 : 1502\n",
    "    - 횡Scratch : 2262\n",
    "- 이미지 유형: Single-RGB-image\n",
    "- 원본 이미지 크기 및 채널 수: 128 x 128 x 3\n",
    "- Evaluation\n",
    "    - Evaluation metric: Error rate\n",
    "    - Evaluation method: 하나의 원본 이미지를 하나의 제품 인스턴스로 하여 성능 도출\n",
    "    \n",
    "\n",
    "\n",
    "suakit 솔루션 개발 때 정확도 92% 도달했다고 함.\n",
    "\n",
    "fine tuning과 architecture를 바꾸면 더 좋아질 것.\n",
    "\n",
    "우선 여기서는 90%정도 달성."
   ]
  },
  {
   "cell_type": "markdown",
   "metadata": {},
   "source": [
    "hyperparameter settings\n",
    "\n",
    "learning rate 0.05\n",
    "...\n"
   ]
  },
  {
   "cell_type": "markdown",
   "metadata": {},
   "source": [
    "Dataset 정보\n",
    "\n",
    "imbalanced dataset\n",
    "\n",
    "-> balanced accuracy\n",
    "\n",
    "label과 분포 graph 그리기"
   ]
  },
  {
   "cell_type": "code",
   "execution_count": null,
   "metadata": {
    "collapsed": true
   },
   "outputs": [],
   "source": []
  }
 ],
 "metadata": {
  "anaconda-cloud": {},
  "kernelspec": {
   "display_name": "Python [default]",
   "language": "python",
   "name": "python3"
  },
  "language_info": {
   "codemirror_mode": {
    "name": "ipython",
    "version": 3
   },
   "file_extension": ".py",
   "mimetype": "text/x-python",
   "name": "python",
   "nbconvert_exporter": "python",
   "pygments_lexer": "ipython3",
   "version": "3.5.2"
  }
 },
 "nbformat": 4,
 "nbformat_minor": 2
}
