{
 "cells": [
  {
   "cell_type": "markdown",
   "metadata": {},
   "source": [
    "Daeduck PCB AOI Dataset\n",
    "=============\n",
    "분석자: 정회희 (Last update: 2018/05/28)\n",
    "\n",
    "## Problem definition, evaluation 및 데이터셋 관련 기본 정보\n",
    "\n",
    "- 데이터셋 저장 경로: //211.106.187.119/Data/018_daeduck/AOI-data-analysis/original\n",
    "- 산업 도메인: pcb\n",
    "- 문제 유형: Classification\n",
    "- 클래스 유형: 2 Classes\n",
    "    - OK: 9972\n",
    "    - NG: 2762\n",
    "\n",
    "- 이미지 유형: Single-RGB-image\n",
    "- 원본 이미지 크기 및 채널 수: 384 X 480 X 3 -> 224 X 224 X 3 으로 resize해서 저장 (참고로 raw dataset에서 IMAGE - 복사본_xx.bmp 파일과 xx.bmp 파일이 있는데, 복사본이라고 해서 xx.bmp와 겹치는 파일이 있지는 않음. 복사본을 제외한 뒤 파일명이 겹치는 경우도 있었지만, numpy array로 만들어서 서로 비교해봤을 때 달랐음.)\n",
    "- Evaluation\n",
    "    - Evaluation metric: Error rate\n",
    "    - Evaluation method: 하나의 원본 이미지를 하나의 제품 인스턴스로 하여 성능 도출\n",
    "    "
   ]
  }
 ],
 "metadata": {
  "anaconda-cloud": {},
  "kernelspec": {
   "display_name": "Python [conda env:cntk]",
   "language": "python",
   "name": "conda-env-cntk-py"
  },
  "language_info": {
   "codemirror_mode": {
    "name": "ipython",
    "version": 3
   },
   "file_extension": ".py",
   "mimetype": "text/x-python",
   "name": "python",
   "nbconvert_exporter": "python",
   "pygments_lexer": "ipython3",
   "version": "3.5.4"
  }
 },
 "nbformat": 4,
 "nbformat_minor": 1
}
